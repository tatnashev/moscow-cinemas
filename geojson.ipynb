{
 "cells": [
  {
   "cell_type": "code",
   "execution_count": 1,
   "id": "a2d14642",
   "metadata": {},
   "outputs": [],
   "source": [
    "import pandas as pd "
   ]
  },
  {
   "cell_type": "code",
   "execution_count": 2,
   "id": "3350f65e",
   "metadata": {},
   "outputs": [
    {
     "data": {
      "text/html": [
       "<div>\n",
       "<style scoped>\n",
       "    .dataframe tbody tr th:only-of-type {\n",
       "        vertical-align: middle;\n",
       "    }\n",
       "\n",
       "    .dataframe tbody tr th {\n",
       "        vertical-align: top;\n",
       "    }\n",
       "\n",
       "    .dataframe thead th {\n",
       "        text-align: right;\n",
       "    }\n",
       "</style>\n",
       "<table border=\"1\" class=\"dataframe\">\n",
       "  <thead>\n",
       "    <tr style=\"text-align: right;\">\n",
       "      <th></th>\n",
       "      <th>Cinema</th>\n",
       "      <th>Run</th>\n",
       "      <th>Seats</th>\n",
       "      <th>Latitude</th>\n",
       "      <th>Longitude</th>\n",
       "    </tr>\n",
       "  </thead>\n",
       "  <tbody>\n",
       "    <tr>\n",
       "      <th>0</th>\n",
       "      <td>Колизей</td>\n",
       "      <td>1.0</td>\n",
       "      <td>1000</td>\n",
       "      <td>55.761781</td>\n",
       "      <td>37.645941</td>\n",
       "    </tr>\n",
       "    <tr>\n",
       "      <th>1</th>\n",
       "      <td>Метрополь</td>\n",
       "      <td>1.0</td>\n",
       "      <td>680</td>\n",
       "      <td>55.758448</td>\n",
       "      <td>37.621669</td>\n",
       "    </tr>\n",
       "    <tr>\n",
       "      <th>2</th>\n",
       "      <td>Москва</td>\n",
       "      <td>1.0</td>\n",
       "      <td>747</td>\n",
       "      <td>55.769494</td>\n",
       "      <td>37.593533</td>\n",
       "    </tr>\n",
       "    <tr>\n",
       "      <th>3</th>\n",
       "      <td>Ударник</td>\n",
       "      <td>1.0</td>\n",
       "      <td>1587</td>\n",
       "      <td>55.744450</td>\n",
       "      <td>37.613072</td>\n",
       "    </tr>\n",
       "    <tr>\n",
       "      <th>4</th>\n",
       "      <td>Авангард</td>\n",
       "      <td>1.0</td>\n",
       "      <td>489</td>\n",
       "      <td>55.731779</td>\n",
       "      <td>37.611473</td>\n",
       "    </tr>\n",
       "  </tbody>\n",
       "</table>\n",
       "</div>"
      ],
      "text/plain": [
       "       Cinema  Run Seats   Latitude  Longitude\n",
       "0    Колизей   1.0  1000  55.761781  37.645941\n",
       "1  Метрополь   1.0   680  55.758448  37.621669\n",
       "2     Москва   1.0   747  55.769494  37.593533\n",
       "3    Ударник   1.0  1587  55.744450  37.613072\n",
       "4   Авангард   1.0   489  55.731779  37.611473"
      ]
     },
     "execution_count": 2,
     "metadata": {},
     "output_type": "execute_result"
    }
   ],
   "source": [
    "df = pd.read_excel('Cinemas_for_geojson.xlsx')\n",
    "df.head()"
   ]
  },
  {
   "cell_type": "code",
   "execution_count": 4,
   "id": "9fb40fb7",
   "metadata": {},
   "outputs": [
    {
     "data": {
      "text/plain": [
       "79"
      ]
     },
     "execution_count": 4,
     "metadata": {},
     "output_type": "execute_result"
    }
   ],
   "source": [
    "len(df['Cinema'].unique())"
   ]
  },
  {
   "cell_type": "code",
   "execution_count": 5,
   "id": "7b542d97",
   "metadata": {},
   "outputs": [],
   "source": [
    "df = pd.read_csv('cultural.csv')"
   ]
  },
  {
   "cell_type": "code",
   "execution_count": 6,
   "id": "f195f5a7",
   "metadata": {},
   "outputs": [
    {
     "data": {
      "text/html": [
       "<div>\n",
       "<style scoped>\n",
       "    .dataframe tbody tr th:only-of-type {\n",
       "        vertical-align: middle;\n",
       "    }\n",
       "\n",
       "    .dataframe tbody tr th {\n",
       "        vertical-align: top;\n",
       "    }\n",
       "\n",
       "    .dataframe thead th {\n",
       "        text-align: right;\n",
       "    }\n",
       "</style>\n",
       "<table border=\"1\" class=\"dataframe\">\n",
       "  <thead>\n",
       "    <tr style=\"text-align: right;\">\n",
       "      <th></th>\n",
       "      <th>Latitude</th>\n",
       "      <th>Longitude</th>\n",
       "      <th>marker-color</th>\n",
       "      <th>marker-size</th>\n",
       "    </tr>\n",
       "  </thead>\n",
       "  <tbody>\n",
       "    <tr>\n",
       "      <th>0</th>\n",
       "      <td>55.757283173229865</td>\n",
       "      <td>37.61874318122864</td>\n",
       "      <td>#0042aa</td>\n",
       "      <td>medium</td>\n",
       "    </tr>\n",
       "    <tr>\n",
       "      <th>1</th>\n",
       "      <td>55.499189</td>\n",
       "      <td>37.76272</td>\n",
       "      <td>#0042aa</td>\n",
       "      <td>medium</td>\n",
       "    </tr>\n",
       "    <tr>\n",
       "      <th>2</th>\n",
       "      <td>55.729747</td>\n",
       "      <td>37.639464</td>\n",
       "      <td>#0042aa</td>\n",
       "      <td>medium</td>\n",
       "    </tr>\n",
       "    <tr>\n",
       "      <th>3</th>\n",
       "      <td>55.747343</td>\n",
       "      <td>37.602921</td>\n",
       "      <td>#0042aa</td>\n",
       "      <td>medium</td>\n",
       "    </tr>\n",
       "    <tr>\n",
       "      <th>4</th>\n",
       "      <td>56.326468</td>\n",
       "      <td>43.987875</td>\n",
       "      <td>#0042aa</td>\n",
       "      <td>medium</td>\n",
       "    </tr>\n",
       "  </tbody>\n",
       "</table>\n",
       "</div>"
      ],
      "text/plain": [
       "             Latitude          Longitude marker-color marker-size\n",
       "0  55.757283173229865  37.61874318122864      #0042aa      medium\n",
       "1           55.499189           37.76272      #0042aa      medium\n",
       "2           55.729747          37.639464      #0042aa      medium\n",
       "3           55.747343          37.602921      #0042aa      medium\n",
       "4           56.326468          43.987875      #0042aa      medium"
      ]
     },
     "execution_count": 6,
     "metadata": {},
     "output_type": "execute_result"
    }
   ],
   "source": [
    "df.head()"
   ]
  },
  {
   "cell_type": "code",
   "execution_count": 7,
   "id": "050f8ec0",
   "metadata": {},
   "outputs": [
    {
     "data": {
      "text/plain": [
       "Latitude        object\n",
       "Longitude       object\n",
       "marker-color    object\n",
       "marker-size     object\n",
       "dtype: object"
      ]
     },
     "execution_count": 7,
     "metadata": {},
     "output_type": "execute_result"
    }
   ],
   "source": [
    "df.dtypes"
   ]
  },
  {
   "cell_type": "code",
   "execution_count": 8,
   "id": "986c4ca4",
   "metadata": {},
   "outputs": [
    {
     "data": {
      "text/plain": [
       "0     55.757283\n",
       "1     55.499189\n",
       "2     55.729747\n",
       "3     55.747343\n",
       "4     56.326468\n",
       "5     55.759355\n",
       "6     55.750385\n",
       "7     55.765410\n",
       "8     55.755090\n",
       "9     55.752490\n",
       "10    55.750043\n",
       "11    55.726321\n",
       "12    55.757274\n",
       "13    55.784341\n",
       "14    55.797392\n",
       "15    55.738780\n",
       "16    55.739721\n",
       "17    55.741329\n",
       "18    55.747305\n",
       "19    55.753848\n",
       "20    55.752500\n",
       "21    55.714709\n",
       "22    55.752022\n",
       "23    55.774953\n",
       "24    55.824057\n",
       "25    55.749525\n",
       "26    55.735018\n",
       "27    55.655845\n",
       "28    54.748056\n",
       "29    55.733878\n",
       "30    55.776736\n",
       "31    55.776736\n",
       "32    55.742352\n",
       "33    55.727876\n",
       "34    55.774416\n",
       "Name: Latitude, dtype: float64"
      ]
     },
     "execution_count": 8,
     "metadata": {},
     "output_type": "execute_result"
    }
   ],
   "source": [
    "df['Latitude'].astype(float)"
   ]
  },
  {
   "cell_type": "code",
   "execution_count": 9,
   "id": "82527246",
   "metadata": {},
   "outputs": [],
   "source": [
    "df['Latitude'] = df['Latitude'].astype(float)\n",
    "df['Longitude'] = df['Longitude'].astype(float)"
   ]
  },
  {
   "cell_type": "code",
   "execution_count": 10,
   "id": "db83226e",
   "metadata": {},
   "outputs": [
    {
     "data": {
      "text/plain": [
       "Latitude        float64\n",
       "Longitude       float64\n",
       "marker-color     object\n",
       "marker-size      object\n",
       "dtype: object"
      ]
     },
     "execution_count": 10,
     "metadata": {},
     "output_type": "execute_result"
    }
   ],
   "source": [
    "df.dtypes"
   ]
  },
  {
   "cell_type": "code",
   "execution_count": 12,
   "id": "f2775acb",
   "metadata": {},
   "outputs": [],
   "source": [
    "df.to_csv('cultural_numbers.csv', index=False)"
   ]
  },
  {
   "cell_type": "code",
   "execution_count": null,
   "id": "b6a5cc1b",
   "metadata": {},
   "outputs": [],
   "source": [
    "|"
   ]
  }
 ],
 "metadata": {
  "kernelspec": {
   "display_name": "Python 3 (ipykernel)",
   "language": "python",
   "name": "python3"
  },
  "language_info": {
   "codemirror_mode": {
    "name": "ipython",
    "version": 3
   },
   "file_extension": ".py",
   "mimetype": "text/x-python",
   "name": "python",
   "nbconvert_exporter": "python",
   "pygments_lexer": "ipython3",
   "version": "3.10.6"
  }
 },
 "nbformat": 4,
 "nbformat_minor": 5
}
