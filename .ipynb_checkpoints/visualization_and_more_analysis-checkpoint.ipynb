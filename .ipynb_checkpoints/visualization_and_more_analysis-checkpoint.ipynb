{
 "cells": [
  {
   "cell_type": "markdown",
   "id": "6b306c6f",
   "metadata": {},
   "source": [
    "**Внимание!** \n",
    "\n",
    "Код очень кривой, в скором времени будет отрефакторен до нормального вида "
   ]
  },
  {
   "cell_type": "code",
   "execution_count": 1,
   "id": "42be0844",
   "metadata": {},
   "outputs": [],
   "source": [
    "import pandas as pd \n",
    "import numpy as np \n",
    "\n",
    "import seaborn as sns \n",
    "import matplotlib.pyplot as plt\n",
    "import plotly.express as px\n",
    "sns.set()"
   ]
  },
  {
   "cell_type": "code",
   "execution_count": 2,
   "id": "655916b1",
   "metadata": {},
   "outputs": [],
   "source": [
    "import warnings\n",
    "warnings.filterwarnings(\"ignore\")"
   ]
  },
  {
   "cell_type": "code",
   "execution_count": 3,
   "id": "07db9162",
   "metadata": {},
   "outputs": [],
   "source": [
    "df_first_period = pd.read_excel('agg_stat_first_period.xlsx') \n",
    "df_second_period = pd.read_excel('agg_stat_second_period.xlsx')"
   ]
  },
  {
   "cell_type": "code",
   "execution_count": 4,
   "id": "7df6768b",
   "metadata": {},
   "outputs": [],
   "source": [
    "df_first_period['label'] = '1948-1949' \n",
    "df_first_period['period'] = 1948\n",
    "df_second_period['label'] = '1954-1955'\n",
    "df_second_period['period'] = 1954"
   ]
  },
  {
   "cell_type": "code",
   "execution_count": 7,
   "id": "d78063ac",
   "metadata": {},
   "outputs": [
    {
     "data": {
      "text/html": [
       "<div>\n",
       "<style scoped>\n",
       "    .dataframe tbody tr th:only-of-type {\n",
       "        vertical-align: middle;\n",
       "    }\n",
       "\n",
       "    .dataframe tbody tr th {\n",
       "        vertical-align: top;\n",
       "    }\n",
       "\n",
       "    .dataframe thead th {\n",
       "        text-align: right;\n",
       "    }\n",
       "</style>\n",
       "<table border=\"1\" class=\"dataframe\">\n",
       "  <thead>\n",
       "    <tr style=\"text-align: right;\">\n",
       "      <th></th>\n",
       "      <th>Cinema</th>\n",
       "      <th>Screening Days</th>\n",
       "      <th>rating</th>\n",
       "      <th>Adventure</th>\n",
       "      <th>Biography</th>\n",
       "      <th>Comedy</th>\n",
       "      <th>Crime</th>\n",
       "      <th>Drama</th>\n",
       "      <th>Family</th>\n",
       "      <th>Fantasy</th>\n",
       "      <th>...</th>\n",
       "      <th>is_censure</th>\n",
       "      <th>count_movies</th>\n",
       "      <th>screendays_by_year</th>\n",
       "      <th>mean_distrib</th>\n",
       "      <th>rank</th>\n",
       "      <th>seats</th>\n",
       "      <th>soviet_movies</th>\n",
       "      <th>new_movies</th>\n",
       "      <th>label</th>\n",
       "      <th>period</th>\n",
       "    </tr>\n",
       "  </thead>\n",
       "  <tbody>\n",
       "    <tr>\n",
       "      <th>0</th>\n",
       "      <td>Авангард</td>\n",
       "      <td>942</td>\n",
       "      <td>6.066981</td>\n",
       "      <td>37</td>\n",
       "      <td>24</td>\n",
       "      <td>30</td>\n",
       "      <td>3</td>\n",
       "      <td>119</td>\n",
       "      <td>29</td>\n",
       "      <td>11</td>\n",
       "      <td>...</td>\n",
       "      <td>7</td>\n",
       "      <td>212</td>\n",
       "      <td>339.5</td>\n",
       "      <td>4.443396</td>\n",
       "      <td>1</td>\n",
       "      <td>515</td>\n",
       "      <td>151</td>\n",
       "      <td>152</td>\n",
       "      <td>1948-1949</td>\n",
       "      <td>1948</td>\n",
       "    </tr>\n",
       "    <tr>\n",
       "      <th>1</th>\n",
       "      <td>Аврора</td>\n",
       "      <td>863</td>\n",
       "      <td>6.203653</td>\n",
       "      <td>29</td>\n",
       "      <td>22</td>\n",
       "      <td>51</td>\n",
       "      <td>3</td>\n",
       "      <td>124</td>\n",
       "      <td>12</td>\n",
       "      <td>7</td>\n",
       "      <td>...</td>\n",
       "      <td>15</td>\n",
       "      <td>219</td>\n",
       "      <td>318.0</td>\n",
       "      <td>3.940639</td>\n",
       "      <td>3</td>\n",
       "      <td>338</td>\n",
       "      <td>183</td>\n",
       "      <td>143</td>\n",
       "      <td>1948-1949</td>\n",
       "      <td>1948</td>\n",
       "    </tr>\n",
       "    <tr>\n",
       "      <th>2</th>\n",
       "      <td>Аквариум</td>\n",
       "      <td>415</td>\n",
       "      <td>6.206061</td>\n",
       "      <td>17</td>\n",
       "      <td>7</td>\n",
       "      <td>20</td>\n",
       "      <td>3</td>\n",
       "      <td>51</td>\n",
       "      <td>17</td>\n",
       "      <td>11</td>\n",
       "      <td>...</td>\n",
       "      <td>3</td>\n",
       "      <td>99</td>\n",
       "      <td>139.5</td>\n",
       "      <td>4.191919</td>\n",
       "      <td>2</td>\n",
       "      <td>732</td>\n",
       "      <td>73</td>\n",
       "      <td>86</td>\n",
       "      <td>1948-1949</td>\n",
       "      <td>1948</td>\n",
       "    </tr>\n",
       "    <tr>\n",
       "      <th>3</th>\n",
       "      <td>Арс</td>\n",
       "      <td>922</td>\n",
       "      <td>6.040571</td>\n",
       "      <td>13</td>\n",
       "      <td>17</td>\n",
       "      <td>44</td>\n",
       "      <td>3</td>\n",
       "      <td>104</td>\n",
       "      <td>12</td>\n",
       "      <td>8</td>\n",
       "      <td>...</td>\n",
       "      <td>8</td>\n",
       "      <td>175</td>\n",
       "      <td>323.5</td>\n",
       "      <td>5.268571</td>\n",
       "      <td>2</td>\n",
       "      <td>273</td>\n",
       "      <td>148</td>\n",
       "      <td>125</td>\n",
       "      <td>1948-1949</td>\n",
       "      <td>1948</td>\n",
       "    </tr>\n",
       "    <tr>\n",
       "      <th>4</th>\n",
       "      <td>Баррикады</td>\n",
       "      <td>963</td>\n",
       "      <td>5.687013</td>\n",
       "      <td>33</td>\n",
       "      <td>22</td>\n",
       "      <td>33</td>\n",
       "      <td>5</td>\n",
       "      <td>121</td>\n",
       "      <td>28</td>\n",
       "      <td>11</td>\n",
       "      <td>...</td>\n",
       "      <td>10</td>\n",
       "      <td>231</td>\n",
       "      <td>337.0</td>\n",
       "      <td>4.168831</td>\n",
       "      <td>2</td>\n",
       "      <td>451</td>\n",
       "      <td>175</td>\n",
       "      <td>161</td>\n",
       "      <td>1948-1949</td>\n",
       "      <td>1948</td>\n",
       "    </tr>\n",
       "    <tr>\n",
       "      <th>...</th>\n",
       "      <td>...</td>\n",
       "      <td>...</td>\n",
       "      <td>...</td>\n",
       "      <td>...</td>\n",
       "      <td>...</td>\n",
       "      <td>...</td>\n",
       "      <td>...</td>\n",
       "      <td>...</td>\n",
       "      <td>...</td>\n",
       "      <td>...</td>\n",
       "      <td>...</td>\n",
       "      <td>...</td>\n",
       "      <td>...</td>\n",
       "      <td>...</td>\n",
       "      <td>...</td>\n",
       "      <td>...</td>\n",
       "      <td>...</td>\n",
       "      <td>...</td>\n",
       "      <td>...</td>\n",
       "      <td>...</td>\n",
       "      <td>...</td>\n",
       "    </tr>\n",
       "    <tr>\n",
       "      <th>36</th>\n",
       "      <td>Шторм</td>\n",
       "      <td>818</td>\n",
       "      <td>5.565263</td>\n",
       "      <td>25</td>\n",
       "      <td>8</td>\n",
       "      <td>44</td>\n",
       "      <td>5</td>\n",
       "      <td>110</td>\n",
       "      <td>13</td>\n",
       "      <td>3</td>\n",
       "      <td>...</td>\n",
       "      <td>1</td>\n",
       "      <td>190</td>\n",
       "      <td>326.0</td>\n",
       "      <td>4.305263</td>\n",
       "      <td>1</td>\n",
       "      <td>622</td>\n",
       "      <td>114</td>\n",
       "      <td>157</td>\n",
       "      <td>1954-1955</td>\n",
       "      <td>1954</td>\n",
       "    </tr>\n",
       "    <tr>\n",
       "      <th>37</th>\n",
       "      <td>Экран жизни</td>\n",
       "      <td>1195</td>\n",
       "      <td>6.114397</td>\n",
       "      <td>34</td>\n",
       "      <td>12</td>\n",
       "      <td>79</td>\n",
       "      <td>10</td>\n",
       "      <td>141</td>\n",
       "      <td>19</td>\n",
       "      <td>4</td>\n",
       "      <td>...</td>\n",
       "      <td>5</td>\n",
       "      <td>257</td>\n",
       "      <td>320.0</td>\n",
       "      <td>4.649805</td>\n",
       "      <td>2</td>\n",
       "      <td>565</td>\n",
       "      <td>193</td>\n",
       "      <td>191</td>\n",
       "      <td>1954-1955</td>\n",
       "      <td>1954</td>\n",
       "    </tr>\n",
       "    <tr>\n",
       "      <th>38</th>\n",
       "      <td>Экспресс</td>\n",
       "      <td>1179</td>\n",
       "      <td>5.356877</td>\n",
       "      <td>29</td>\n",
       "      <td>19</td>\n",
       "      <td>63</td>\n",
       "      <td>6</td>\n",
       "      <td>122</td>\n",
       "      <td>21</td>\n",
       "      <td>6</td>\n",
       "      <td>...</td>\n",
       "      <td>2</td>\n",
       "      <td>269</td>\n",
       "      <td>321.0</td>\n",
       "      <td>4.382900</td>\n",
       "      <td>3</td>\n",
       "      <td>253</td>\n",
       "      <td>222</td>\n",
       "      <td>171</td>\n",
       "      <td>1954-1955</td>\n",
       "      <td>1954</td>\n",
       "    </tr>\n",
       "    <tr>\n",
       "      <th>39</th>\n",
       "      <td>Эрмитаж</td>\n",
       "      <td>1272</td>\n",
       "      <td>5.743704</td>\n",
       "      <td>32</td>\n",
       "      <td>13</td>\n",
       "      <td>69</td>\n",
       "      <td>8</td>\n",
       "      <td>157</td>\n",
       "      <td>24</td>\n",
       "      <td>6</td>\n",
       "      <td>...</td>\n",
       "      <td>0</td>\n",
       "      <td>270</td>\n",
       "      <td>343.5</td>\n",
       "      <td>4.711111</td>\n",
       "      <td>1</td>\n",
       "      <td>652</td>\n",
       "      <td>164</td>\n",
       "      <td>196</td>\n",
       "      <td>1954-1955</td>\n",
       "      <td>1954</td>\n",
       "    </tr>\n",
       "    <tr>\n",
       "      <th>40</th>\n",
       "      <td>им. Моссовета</td>\n",
       "      <td>830</td>\n",
       "      <td>5.559135</td>\n",
       "      <td>26</td>\n",
       "      <td>9</td>\n",
       "      <td>44</td>\n",
       "      <td>6</td>\n",
       "      <td>119</td>\n",
       "      <td>17</td>\n",
       "      <td>3</td>\n",
       "      <td>...</td>\n",
       "      <td>2</td>\n",
       "      <td>208</td>\n",
       "      <td>328.5</td>\n",
       "      <td>3.990385</td>\n",
       "      <td>1</td>\n",
       "      <td>684</td>\n",
       "      <td>136</td>\n",
       "      <td>174</td>\n",
       "      <td>1954-1955</td>\n",
       "      <td>1954</td>\n",
       "    </tr>\n",
       "  </tbody>\n",
       "</table>\n",
       "<p>84 rows × 69 columns</p>\n",
       "</div>"
      ],
      "text/plain": [
       "            Cinema  Screening Days    rating  Adventure  Biography  Comedy  \\\n",
       "0        Авангард              942  6.066981         37         24      30   \n",
       "1          Аврора              863  6.203653         29         22      51   \n",
       "2        Аквариум              415  6.206061         17          7      20   \n",
       "3             Арс              922  6.040571         13         17      44   \n",
       "4       Баррикады              963  5.687013         33         22      33   \n",
       "..             ...             ...       ...        ...        ...     ...   \n",
       "36          Шторм              818  5.565263         25          8      44   \n",
       "37    Экран жизни             1195  6.114397         34         12      79   \n",
       "38       Экспресс             1179  5.356877         29         19      63   \n",
       "39        Эрмитаж             1272  5.743704         32         13      69   \n",
       "40  им. Моссовета              830  5.559135         26          9      44   \n",
       "\n",
       "    Crime  Drama  Family  Fantasy  ...  is_censure  count_movies  \\\n",
       "0       3    119      29       11  ...           7           212   \n",
       "1       3    124      12        7  ...          15           219   \n",
       "2       3     51      17       11  ...           3            99   \n",
       "3       3    104      12        8  ...           8           175   \n",
       "4       5    121      28       11  ...          10           231   \n",
       "..    ...    ...     ...      ...  ...         ...           ...   \n",
       "36      5    110      13        3  ...           1           190   \n",
       "37     10    141      19        4  ...           5           257   \n",
       "38      6    122      21        6  ...           2           269   \n",
       "39      8    157      24        6  ...           0           270   \n",
       "40      6    119      17        3  ...           2           208   \n",
       "\n",
       "    screendays_by_year  mean_distrib  rank  seats  soviet_movies  new_movies  \\\n",
       "0                339.5      4.443396     1    515            151         152   \n",
       "1                318.0      3.940639     3    338            183         143   \n",
       "2                139.5      4.191919     2    732             73          86   \n",
       "3                323.5      5.268571     2    273            148         125   \n",
       "4                337.0      4.168831     2    451            175         161   \n",
       "..                 ...           ...   ...    ...            ...         ...   \n",
       "36               326.0      4.305263     1    622            114         157   \n",
       "37               320.0      4.649805     2    565            193         191   \n",
       "38               321.0      4.382900     3    253            222         171   \n",
       "39               343.5      4.711111     1    652            164         196   \n",
       "40               328.5      3.990385     1    684            136         174   \n",
       "\n",
       "        label  period  \n",
       "0   1948-1949    1948  \n",
       "1   1948-1949    1948  \n",
       "2   1948-1949    1948  \n",
       "3   1948-1949    1948  \n",
       "4   1948-1949    1948  \n",
       "..        ...     ...  \n",
       "36  1954-1955    1954  \n",
       "37  1954-1955    1954  \n",
       "38  1954-1955    1954  \n",
       "39  1954-1955    1954  \n",
       "40  1954-1955    1954  \n",
       "\n",
       "[84 rows x 69 columns]"
      ]
     },
     "execution_count": 7,
     "metadata": {},
     "output_type": "execute_result"
    }
   ],
   "source": [
    "df = pd.concat([df_first_period, df_second_period], axis=0)\n",
    "df['period'] = df['label'].apply(lambda x: 1948 if x == '1948-1949' else 1954)\n",
    "df"
   ]
  },
  {
   "cell_type": "code",
   "execution_count": 8,
   "id": "b8646726",
   "metadata": {},
   "outputs": [],
   "source": [
    "# df['rank'] -= 1"
   ]
  },
  {
   "cell_type": "code",
   "execution_count": 6,
   "id": "5be1b925",
   "metadata": {},
   "outputs": [
    {
     "data": {
      "text/plain": [
       "0    16\n",
       "1     8\n",
       "5     5\n",
       "2     5\n",
       "3     3\n",
       "4     2\n",
       "7     2\n",
       "Name: is_censure, dtype: int64"
      ]
     },
     "execution_count": 6,
     "metadata": {},
     "output_type": "execute_result"
    }
   ],
   "source": [
    "df_second_period['is_censure'].value_counts()"
   ]
  },
  {
   "cell_type": "markdown",
   "id": "03be7dc2",
   "metadata": {},
   "source": [
    "## Всякие базовые визуализации"
   ]
  },
  {
   "cell_type": "code",
   "execution_count": 6,
   "id": "4a628d8d",
   "metadata": {},
   "outputs": [
    {
     "data": {
      "text/plain": [
       "Index(['Cinema', 'Screening Days', 'rating', 'Adventure', 'Biography',\n",
       "       'Comedy', 'Crime', 'Drama', 'Family', 'Fantasy', 'Film-Noir', 'History',\n",
       "       'Music', 'Musical', 'Mystery', 'Romance', 'Sci-Fi', 'Short', 'Sport',\n",
       "       'Thriller', 'War', 'Western', 'Action', 'Adult', 'Animation',\n",
       "       'Documentary', 'Austria', 'China', 'Czechoslovakia', 'East Germany',\n",
       "       'France', 'Germany', 'Hungary', 'Italy', 'Kazakhstan', 'Mongolia',\n",
       "       'Netherlands', 'Norway', 'Soviet Union', 'United Kingdom',\n",
       "       'United States', 'Albania', 'Argentina', 'Australia', 'Bulgaria',\n",
       "       'Finland', 'India', 'Japan', 'Mexico', 'North Korea', 'Poland',\n",
       "       'Romania', 'Russia', 'Spain', 'Sweden', 'West Germany', 'Yugoslavia',\n",
       "       'is_foreign', 'is_award', 'is_censure', 'count_movies',\n",
       "       'screendays_by_year', 'mean_distrib', 'rank', 'seats', 'soviet_movies',\n",
       "       'new_movies', 'label'],\n",
       "      dtype='object')"
      ]
     },
     "execution_count": 6,
     "metadata": {},
     "output_type": "execute_result"
    }
   ],
   "source": [
    "df.columns"
   ]
  },
  {
   "cell_type": "code",
   "execution_count": 1,
   "id": "4ee9e427",
   "metadata": {},
   "outputs": [],
   "source": [
    "columns_genres = ['Adventure', 'Biography',\n",
    "       'Comedy', 'Crime', 'Drama', 'Family', 'Fantasy', 'Film-Noir', 'History',\n",
    "       'Music', 'Musical', 'Mystery', 'Romance', 'Sci-Fi', 'Short', 'Sport',\n",
    "       'Thriller', 'War', 'Western', 'Action', 'Adult', 'Animation',\n",
    "       'Documentary']"
   ]
  },
  {
   "cell_type": "code",
   "execution_count": 3,
   "id": "ac387df3",
   "metadata": {},
   "outputs": [
    {
     "data": {
      "text/plain": [
       "23"
      ]
     },
     "execution_count": 3,
     "metadata": {},
     "output_type": "execute_result"
    }
   ],
   "source": [
    "len(columns_genres)"
   ]
  },
  {
   "cell_type": "code",
   "execution_count": 2,
   "id": "3c1a7425",
   "metadata": {},
   "outputs": [],
   "source": [
    "columns_countries = ['Austria', 'China', 'Czechoslovakia', 'East Germany',\n",
    "       'France', 'Germany', 'Hungary', 'Italy', 'Kazakhstan', 'Mongolia',\n",
    "       'Netherlands', 'Norway', 'Soviet Union', 'United Kingdom',\n",
    "       'United States', 'Albania', 'Argentina', 'Australia', 'Bulgaria',\n",
    "       'Finland', 'India', 'Japan', 'Mexico', 'North Korea', 'Poland',\n",
    "       'Romania', 'Russia', 'Spain', 'Sweden', 'West Germany', 'Yugoslavia']"
   ]
  },
  {
   "cell_type": "code",
   "execution_count": 4,
   "id": "56da8590",
   "metadata": {},
   "outputs": [
    {
     "data": {
      "text/plain": [
       "31"
      ]
     },
     "execution_count": 4,
     "metadata": {},
     "output_type": "execute_result"
    }
   ],
   "source": [
    "len(columns_countries)"
   ]
  },
  {
   "cell_type": "code",
   "execution_count": 13,
   "id": "00b5c0e9",
   "metadata": {},
   "outputs": [],
   "source": [
    "df['foreign_movies_percentage'] = (df['is_foreign'] / df['count_movies']) * 100  "
   ]
  },
  {
   "cell_type": "code",
   "execution_count": 16,
   "id": "0ad019d8",
   "metadata": {},
   "outputs": [
    {
     "data": {
      "image/png": "[encoded data removed]",
      "text/plain": [
       "<Figure size 720x504 with 1 Axes>"
      ]
     },
     "metadata": {
      "needs_background": "light"
     },
     "output_type": "display_data"
    }
   ],
   "source": [
    "plt.figure(figsize=(10, 7))\n",
    "box_plot = sns.boxplot(data=df, x='rank', y='foreign_movies_percent', hue='label')\n",
    "plt.xlabel('Ранг') \n",
    "plt.title('Распределение процента иностранных фильмов по рангам кинотеатров')\n",
    "plt.ylabel('Процент иностранных фильмов')\n",
    "plt.show()"
   ]
  },
  {
   "cell_type": "code",
   "execution_count": 18,
   "id": "3f9bcfed",
   "metadata": {},
   "outputs": [],
   "source": [
    "box_plot.get_figure().savefig('foreign_movies_percent.jpeg')"
   ]
  },
  {
   "cell_type": "code",
   "execution_count": 5,
   "id": "6abe6af5",
   "metadata": {},
   "outputs": [],
   "source": [
    "# # по жанрам \n",
    "\n",
    "# plt.figure(figsize=(10, 10))\n",
    "\n",
    "# x = columns_genres\n",
    "# count_movies_sum_first = df_first_period['count_movies'].sum() \n",
    "# count_movies_sum_second = df_second_period['count_movies'].sum()\n",
    "\n",
    "# values_first = [] \n",
    "# values_second = []\n",
    "\n",
    "# for genre in columns_genres: \n",
    "#     values_first.append((df_first_period[genre].sum() / count_movies_sum_first) * 100) \n",
    "#     values_second.append((df_second_period[genre].sum() / count_movies_sum_second) * 100) \n",
    "    \n",
    "# x_axis = np.arange(len(x)) \n",
    "\n",
    "# plt.barh(x_axis - 0.2, values_first, 0.4, label='1948-1949') \n",
    "# plt.barh(x_axis + 0.2, values_second, 0.4, label='1954-1955')\n",
    "\n",
    "# plt.yticks(x_axis, x) \n",
    "# plt.ylabel('Жанры') \n",
    "# plt.xlabel('%') \n",
    "# plt.legend() \n",
    "# plt.show()"
   ]
  },
  {
   "cell_type": "code",
   "execution_count": 59,
   "id": "ea9cec7d",
   "metadata": {},
   "outputs": [],
   "source": [
    "# по жанрам \n",
    "\n",
    "# plt.figure(figsize=(20, 7))\n",
    "\n",
    "# x = columns_genres\n",
    "# count_movies_sum_first = df_first_period['count_movies'].sum() \n",
    "# count_movies_sum_second = df_second_period['count_movies'].sum()\n",
    "\n",
    "# values_first = [] \n",
    "# values_second = []\n",
    "\n",
    "# for genre in columns_genres: \n",
    "#     values_first.append((df_first_period[genre].sum() / count_movies_sum_first) * 100) \n",
    "#     values_second.append((df_second_period[genre].sum() / count_movies_sum_second) * 100) \n",
    "    \n",
    "# x_axis = np.arange(len(x)) \n",
    "\n",
    "# f = plt.bar(x_axis - 0.2, values_first, 0.4, label='1948-1949') \n",
    "# f = plt.bar(x_axis + 0.2, values_second, 0.4, label='1954-1955')\n",
    "\n",
    "# plt.xticks(x_axis, x, rotation=45) \n",
    "# plt.xlabel('Жанры') \n",
    "# plt.ylabel('%') \n",
    "# plt.title('Жанры фильмов (%)')\n",
    "# plt.legend() \n",
    "# plt.savefig('movies_genres.jpeg')\n",
    "\n",
    "# plt.show()"
   ]
  },
  {
   "cell_type": "code",
   "execution_count": 48,
   "id": "c468bb53",
   "metadata": {},
   "outputs": [
    {
     "data": {
      "text/html": [
       "<div>\n",
       "<style scoped>\n",
       "    .dataframe tbody tr th:only-of-type {\n",
       "        vertical-align: middle;\n",
       "    }\n",
       "\n",
       "    .dataframe tbody tr th {\n",
       "        vertical-align: top;\n",
       "    }\n",
       "\n",
       "    .dataframe thead th {\n",
       "        text-align: right;\n",
       "    }\n",
       "</style>\n",
       "<table border=\"1\" class=\"dataframe\">\n",
       "  <thead>\n",
       "    <tr style=\"text-align: right;\">\n",
       "      <th></th>\n",
       "      <th>genre</th>\n",
       "      <th>first</th>\n",
       "      <th>second</th>\n",
       "    </tr>\n",
       "  </thead>\n",
       "  <tbody>\n",
       "    <tr>\n",
       "      <th>0</th>\n",
       "      <td>Adventure</td>\n",
       "      <td>11.729827</td>\n",
       "      <td>12.413634</td>\n",
       "    </tr>\n",
       "    <tr>\n",
       "      <th>1</th>\n",
       "      <td>Biography</td>\n",
       "      <td>11.124001</td>\n",
       "      <td>4.571626</td>\n",
       "    </tr>\n",
       "    <tr>\n",
       "      <th>2</th>\n",
       "      <td>Comedy</td>\n",
       "      <td>16.060840</td>\n",
       "      <td>22.950253</td>\n",
       "    </tr>\n",
       "    <tr>\n",
       "      <th>3</th>\n",
       "      <td>Crime</td>\n",
       "      <td>1.778809</td>\n",
       "      <td>2.959466</td>\n",
       "    </tr>\n",
       "    <tr>\n",
       "      <th>4</th>\n",
       "      <td>Drama</td>\n",
       "      <td>55.014179</td>\n",
       "      <td>50.713957</td>\n",
       "    </tr>\n",
       "  </tbody>\n",
       "</table>\n",
       "</div>"
      ],
      "text/plain": [
       "       genre      first     second\n",
       "0  Adventure  11.729827  12.413634\n",
       "1  Biography  11.124001   4.571626\n",
       "2     Comedy  16.060840  22.950253\n",
       "3      Crime   1.778809   2.959466\n",
       "4      Drama  55.014179  50.713957"
      ]
     },
     "execution_count": 48,
     "metadata": {},
     "output_type": "execute_result"
    }
   ],
   "source": [
    "df = pd.DataFrame({\n",
    "    'genre': columns_genres,\n",
    "    'first': values_first, \n",
    "    'second': values_second\n",
    "})\n",
    "\n",
    "df.head()"
   ]
  },
  {
   "cell_type": "code",
   "execution_count": 49,
   "id": "e6c4d944",
   "metadata": {},
   "outputs": [
    {
     "data": {
      "text/html": [
       "<div>\n",
       "<style scoped>\n",
       "    .dataframe tbody tr th:only-of-type {\n",
       "        vertical-align: middle;\n",
       "    }\n",
       "\n",
       "    .dataframe tbody tr th {\n",
       "        vertical-align: top;\n",
       "    }\n",
       "\n",
       "    .dataframe thead th {\n",
       "        text-align: right;\n",
       "    }\n",
       "</style>\n",
       "<table border=\"1\" class=\"dataframe\">\n",
       "  <thead>\n",
       "    <tr style=\"text-align: right;\">\n",
       "      <th></th>\n",
       "      <th>genre</th>\n",
       "      <th>first</th>\n",
       "      <th>second</th>\n",
       "    </tr>\n",
       "  </thead>\n",
       "  <tbody>\n",
       "    <tr>\n",
       "      <th>0</th>\n",
       "      <td>Adventure</td>\n",
       "      <td>11.729827</td>\n",
       "      <td>12.413634</td>\n",
       "    </tr>\n",
       "    <tr>\n",
       "      <th>1</th>\n",
       "      <td>Biography</td>\n",
       "      <td>11.124001</td>\n",
       "      <td>4.571626</td>\n",
       "    </tr>\n",
       "    <tr>\n",
       "      <th>2</th>\n",
       "      <td>Comedy</td>\n",
       "      <td>16.060840</td>\n",
       "      <td>22.950253</td>\n",
       "    </tr>\n",
       "    <tr>\n",
       "      <th>4</th>\n",
       "      <td>Drama</td>\n",
       "      <td>55.014179</td>\n",
       "      <td>50.713957</td>\n",
       "    </tr>\n",
       "    <tr>\n",
       "      <th>5</th>\n",
       "      <td>Family</td>\n",
       "      <td>8.404228</td>\n",
       "      <td>8.060801</td>\n",
       "    </tr>\n",
       "    <tr>\n",
       "      <th>8</th>\n",
       "      <td>History</td>\n",
       "      <td>10.569734</td>\n",
       "      <td>8.705666</td>\n",
       "    </tr>\n",
       "    <tr>\n",
       "      <th>9</th>\n",
       "      <td>Music</td>\n",
       "      <td>3.583398</td>\n",
       "      <td>4.157070</td>\n",
       "    </tr>\n",
       "    <tr>\n",
       "      <th>10</th>\n",
       "      <td>Musical</td>\n",
       "      <td>11.484919</td>\n",
       "      <td>10.571165</td>\n",
       "    </tr>\n",
       "    <tr>\n",
       "      <th>12</th>\n",
       "      <td>Romance</td>\n",
       "      <td>12.438773</td>\n",
       "      <td>20.428374</td>\n",
       "    </tr>\n",
       "    <tr>\n",
       "      <th>17</th>\n",
       "      <td>War</td>\n",
       "      <td>21.629286</td>\n",
       "      <td>12.897282</td>\n",
       "    </tr>\n",
       "    <tr>\n",
       "      <th>19</th>\n",
       "      <td>Action</td>\n",
       "      <td>3.196700</td>\n",
       "      <td>5.492860</td>\n",
       "    </tr>\n",
       "  </tbody>\n",
       "</table>\n",
       "</div>"
      ],
      "text/plain": [
       "        genre      first     second\n",
       "0   Adventure  11.729827  12.413634\n",
       "1   Biography  11.124001   4.571626\n",
       "2      Comedy  16.060840  22.950253\n",
       "4       Drama  55.014179  50.713957\n",
       "5      Family   8.404228   8.060801\n",
       "8     History  10.569734   8.705666\n",
       "9       Music   3.583398   4.157070\n",
       "10    Musical  11.484919  10.571165\n",
       "12    Romance  12.438773  20.428374\n",
       "17        War  21.629286  12.897282\n",
       "19     Action   3.196700   5.492860"
      ]
     },
     "execution_count": 49,
     "metadata": {},
     "output_type": "execute_result"
    }
   ],
   "source": [
    "tmp = df[(df['first'] > 3) & (df['second'] > 3)] \n",
    "tmp"
   ]
  },
  {
   "cell_type": "code",
   "execution_count": 50,
   "id": "be664684",
   "metadata": {},
   "outputs": [
    {
     "data": {
      "text/html": [
       "<div>\n",
       "<style scoped>\n",
       "    .dataframe tbody tr th:only-of-type {\n",
       "        vertical-align: middle;\n",
       "    }\n",
       "\n",
       "    .dataframe tbody tr th {\n",
       "        vertical-align: top;\n",
       "    }\n",
       "\n",
       "    .dataframe thead th {\n",
       "        text-align: right;\n",
       "    }\n",
       "</style>\n",
       "<table border=\"1\" class=\"dataframe\">\n",
       "  <thead>\n",
       "    <tr style=\"text-align: right;\">\n",
       "      <th></th>\n",
       "      <th>genre</th>\n",
       "      <th>first</th>\n",
       "      <th>label</th>\n",
       "    </tr>\n",
       "  </thead>\n",
       "  <tbody>\n",
       "    <tr>\n",
       "      <th>0</th>\n",
       "      <td>Adventure</td>\n",
       "      <td>11.729827</td>\n",
       "      <td>1948-1949</td>\n",
       "    </tr>\n",
       "    <tr>\n",
       "      <th>1</th>\n",
       "      <td>Biography</td>\n",
       "      <td>11.124001</td>\n",
       "      <td>1948-1949</td>\n",
       "    </tr>\n",
       "    <tr>\n",
       "      <th>2</th>\n",
       "      <td>Comedy</td>\n",
       "      <td>16.060840</td>\n",
       "      <td>1948-1949</td>\n",
       "    </tr>\n",
       "    <tr>\n",
       "      <th>4</th>\n",
       "      <td>Drama</td>\n",
       "      <td>55.014179</td>\n",
       "      <td>1948-1949</td>\n",
       "    </tr>\n",
       "    <tr>\n",
       "      <th>5</th>\n",
       "      <td>Family</td>\n",
       "      <td>8.404228</td>\n",
       "      <td>1948-1949</td>\n",
       "    </tr>\n",
       "  </tbody>\n",
       "</table>\n",
       "</div>"
      ],
      "text/plain": [
       "       genre      first      label\n",
       "0  Adventure  11.729827  1948-1949\n",
       "1  Biography  11.124001  1948-1949\n",
       "2     Comedy  16.060840  1948-1949\n",
       "4      Drama  55.014179  1948-1949\n",
       "5     Family   8.404228  1948-1949"
      ]
     },
     "execution_count": 50,
     "metadata": {},
     "output_type": "execute_result"
    }
   ],
   "source": [
    "tmp_first = tmp.copy()\n",
    "tmp_second = tmp.copy() \n",
    "\n",
    "tmp_second['first'] = tmp_second['second']\n",
    "\n",
    "tmp_first['label'] = '1948-1949' \n",
    "tmp_second['label'] = '1954-1955' \n",
    "\n",
    "concat = pd.concat([tmp_first, tmp_second]).drop(columns=['second'])\n",
    "concat.head()"
   ]
  },
  {
   "cell_type": "code",
   "execution_count": 85,
   "id": "1f913488",
   "metadata": {
    "scrolled": false
   },
   "outputs": [],
   "source": [
    "# plt.figure(figsize=(12, 6))\n",
    "# sns.barplot(data=concat, x='genre', y='first', hue='label')\n",
    "# plt.xlabel('Жанры') \n",
    "# plt.ylabel('%') \n",
    "# plt.title('Жанры фильмов (%)')\n",
    "# plt.savefig('movies_genres.jpeg') \n",
    "\n",
    "# plt.show()"
   ]
  },
  {
   "cell_type": "code",
   "execution_count": 70,
   "id": "6e40ce5b",
   "metadata": {},
   "outputs": [],
   "source": [
    "# # по странам \n",
    "\n",
    "# plt.figure(figsize=(7, 15))\n",
    "\n",
    "# x = columns_countries\n",
    "# count_countries_sum_first = sum([df_first_period[country].sum() for country in columns_countries])\n",
    "# count_countries_sum_second = sum([df_second_period[country].sum() for country in columns_countries])\n",
    "\n",
    "# values_first = [] \n",
    "# values_second = []\n",
    "\n",
    "# for country in columns_countries: \n",
    "#     values_first.append((df_first_period[country].sum() / count_movies_sum_first) * 100) \n",
    "#     values_second.append((df_second_period[country].sum() / count_movies_sum_second) * 100) \n",
    "    \n",
    "# x_axis = np.arange(len(x)) \n",
    "\n",
    "# f = plt.barh(x_axis - 0.2, values_first, 0.4, label='1948-1949') \n",
    "# f = plt.barh(x_axis + 0.2, values_second, 0.4, label='1954-1955')\n",
    "\n",
    "# plt.yticks(x_axis, x) \n",
    "# plt.ylabel('Страны') \n",
    "# plt.xlabel('%') \n",
    "# plt.title('Страны производства фильмов (%)')\n",
    "# plt.legend() \n",
    "# plt.savefig('movies_countries.jpeg')\n",
    "\n",
    "# plt.show()"
   ]
  },
  {
   "cell_type": "code",
   "execution_count": 74,
   "id": "9add2a11",
   "metadata": {},
   "outputs": [
    {
     "data": {
      "text/html": [
       "<div>\n",
       "<style scoped>\n",
       "    .dataframe tbody tr th:only-of-type {\n",
       "        vertical-align: middle;\n",
       "    }\n",
       "\n",
       "    .dataframe tbody tr th {\n",
       "        vertical-align: top;\n",
       "    }\n",
       "\n",
       "    .dataframe thead th {\n",
       "        text-align: right;\n",
       "    }\n",
       "</style>\n",
       "<table border=\"1\" class=\"dataframe\">\n",
       "  <thead>\n",
       "    <tr style=\"text-align: right;\">\n",
       "      <th></th>\n",
       "      <th>country</th>\n",
       "      <th>first</th>\n",
       "      <th>second</th>\n",
       "    </tr>\n",
       "  </thead>\n",
       "  <tbody>\n",
       "    <tr>\n",
       "      <th>0</th>\n",
       "      <td>Austria</td>\n",
       "      <td>1.301882</td>\n",
       "      <td>2.660064</td>\n",
       "    </tr>\n",
       "    <tr>\n",
       "      <th>1</th>\n",
       "      <td>China</td>\n",
       "      <td>0.000000</td>\n",
       "      <td>1.324275</td>\n",
       "    </tr>\n",
       "    <tr>\n",
       "      <th>2</th>\n",
       "      <td>Czechoslovakia</td>\n",
       "      <td>1.405001</td>\n",
       "      <td>3.281898</td>\n",
       "    </tr>\n",
       "    <tr>\n",
       "      <th>3</th>\n",
       "      <td>East Germany</td>\n",
       "      <td>0.000000</td>\n",
       "      <td>1.934592</td>\n",
       "    </tr>\n",
       "    <tr>\n",
       "      <th>4</th>\n",
       "      <td>France</td>\n",
       "      <td>0.902294</td>\n",
       "      <td>5.826808</td>\n",
       "    </tr>\n",
       "  </tbody>\n",
       "</table>\n",
       "</div>"
      ],
      "text/plain": [
       "          country     first    second\n",
       "0         Austria  1.301882  2.660064\n",
       "1           China  0.000000  1.324275\n",
       "2  Czechoslovakia  1.405001  3.281898\n",
       "3    East Germany  0.000000  1.934592\n",
       "4          France  0.902294  5.826808"
      ]
     },
     "execution_count": 74,
     "metadata": {},
     "output_type": "execute_result"
    }
   ],
   "source": [
    "df = pd.DataFrame({\n",
    "    'country': columns_countries,\n",
    "    'first': values_first, \n",
    "    'second': values_second\n",
    "})\n",
    "\n",
    "df.head()"
   ]
  },
  {
   "cell_type": "code",
   "execution_count": 77,
   "id": "07a71d4d",
   "metadata": {},
   "outputs": [
    {
     "name": "stderr",
     "output_type": "stream",
     "text": [
      "/tmp/ipykernel_5097/460703944.py:2: SettingWithCopyWarning: \n",
      "A value is trying to be set on a copy of a slice from a DataFrame.\n",
      "Try using .loc[row_indexer,col_indexer] = value instead\n",
      "\n",
      "See the caveats in the documentation: https://pandas.pydata.org/pandas-docs/stable/user_guide/indexing.html#returning-a-view-versus-a-copy\n",
      "  tmp['sum'] = tmp['first'] + tmp['second']\n"
     ]
    },
    {
     "data": {
      "text/html": [
       "<div>\n",
       "<style scoped>\n",
       "    .dataframe tbody tr th:only-of-type {\n",
       "        vertical-align: middle;\n",
       "    }\n",
       "\n",
       "    .dataframe tbody tr th {\n",
       "        vertical-align: top;\n",
       "    }\n",
       "\n",
       "    .dataframe thead th {\n",
       "        text-align: right;\n",
       "    }\n",
       "</style>\n",
       "<table border=\"1\" class=\"dataframe\">\n",
       "  <thead>\n",
       "    <tr style=\"text-align: right;\">\n",
       "      <th></th>\n",
       "      <th>country</th>\n",
       "      <th>first</th>\n",
       "      <th>second</th>\n",
       "    </tr>\n",
       "  </thead>\n",
       "  <tbody>\n",
       "    <tr>\n",
       "      <th>12</th>\n",
       "      <td>Soviet Union</td>\n",
       "      <td>69.283320</td>\n",
       "      <td>54.352833</td>\n",
       "    </tr>\n",
       "    <tr>\n",
       "      <th>5</th>\n",
       "      <td>Germany</td>\n",
       "      <td>15.274555</td>\n",
       "      <td>1.047904</td>\n",
       "    </tr>\n",
       "    <tr>\n",
       "      <th>14</th>\n",
       "      <td>United States</td>\n",
       "      <td>2.333076</td>\n",
       "      <td>6.034086</td>\n",
       "    </tr>\n",
       "    <tr>\n",
       "      <th>4</th>\n",
       "      <td>France</td>\n",
       "      <td>0.902294</td>\n",
       "      <td>5.826808</td>\n",
       "    </tr>\n",
       "    <tr>\n",
       "      <th>7</th>\n",
       "      <td>Italy</td>\n",
       "      <td>2.410415</td>\n",
       "      <td>3.684938</td>\n",
       "    </tr>\n",
       "    <tr>\n",
       "      <th>2</th>\n",
       "      <td>Czechoslovakia</td>\n",
       "      <td>1.405001</td>\n",
       "      <td>3.281898</td>\n",
       "    </tr>\n",
       "    <tr>\n",
       "      <th>0</th>\n",
       "      <td>Austria</td>\n",
       "      <td>1.301882</td>\n",
       "      <td>2.660064</td>\n",
       "    </tr>\n",
       "    <tr>\n",
       "      <th>6</th>\n",
       "      <td>Hungary</td>\n",
       "      <td>1.160093</td>\n",
       "      <td>2.303086</td>\n",
       "    </tr>\n",
       "    <tr>\n",
       "      <th>24</th>\n",
       "      <td>Poland</td>\n",
       "      <td>0.489817</td>\n",
       "      <td>1.784892</td>\n",
       "    </tr>\n",
       "    <tr>\n",
       "      <th>20</th>\n",
       "      <td>India</td>\n",
       "      <td>0.141789</td>\n",
       "      <td>1.911561</td>\n",
       "    </tr>\n",
       "    <tr>\n",
       "      <th>3</th>\n",
       "      <td>East Germany</td>\n",
       "      <td>0.000000</td>\n",
       "      <td>1.934592</td>\n",
       "    </tr>\n",
       "  </tbody>\n",
       "</table>\n",
       "</div>"
      ],
      "text/plain": [
       "           country      first     second\n",
       "12    Soviet Union  69.283320  54.352833\n",
       "5          Germany  15.274555   1.047904\n",
       "14   United States   2.333076   6.034086\n",
       "4           France   0.902294   5.826808\n",
       "7            Italy   2.410415   3.684938\n",
       "2   Czechoslovakia   1.405001   3.281898\n",
       "0          Austria   1.301882   2.660064\n",
       "6          Hungary   1.160093   2.303086\n",
       "24          Poland   0.489817   1.784892\n",
       "20           India   0.141789   1.911561\n",
       "3     East Germany   0.000000   1.934592"
      ]
     },
     "execution_count": 77,
     "metadata": {},
     "output_type": "execute_result"
    }
   ],
   "source": [
    "tmp = df[(df['first'] > 1.5) | (df['second'] > 1.5)] \n",
    "tmp['sum'] = tmp['first'] + tmp['second'] \n",
    "tmp = tmp.sort_values(by='sum', ascending=False).drop(columns=['sum'])\n",
    "tmp"
   ]
  },
  {
   "cell_type": "code",
   "execution_count": 78,
   "id": "0f2193b3",
   "metadata": {},
   "outputs": [
    {
     "data": {
      "text/html": [
       "<div>\n",
       "<style scoped>\n",
       "    .dataframe tbody tr th:only-of-type {\n",
       "        vertical-align: middle;\n",
       "    }\n",
       "\n",
       "    .dataframe tbody tr th {\n",
       "        vertical-align: top;\n",
       "    }\n",
       "\n",
       "    .dataframe thead th {\n",
       "        text-align: right;\n",
       "    }\n",
       "</style>\n",
       "<table border=\"1\" class=\"dataframe\">\n",
       "  <thead>\n",
       "    <tr style=\"text-align: right;\">\n",
       "      <th></th>\n",
       "      <th>country</th>\n",
       "      <th>first</th>\n",
       "      <th>label</th>\n",
       "    </tr>\n",
       "  </thead>\n",
       "  <tbody>\n",
       "    <tr>\n",
       "      <th>12</th>\n",
       "      <td>Soviet Union</td>\n",
       "      <td>69.283320</td>\n",
       "      <td>1948-1949</td>\n",
       "    </tr>\n",
       "    <tr>\n",
       "      <th>5</th>\n",
       "      <td>Germany</td>\n",
       "      <td>15.274555</td>\n",
       "      <td>1948-1949</td>\n",
       "    </tr>\n",
       "    <tr>\n",
       "      <th>14</th>\n",
       "      <td>United States</td>\n",
       "      <td>2.333076</td>\n",
       "      <td>1948-1949</td>\n",
       "    </tr>\n",
       "    <tr>\n",
       "      <th>4</th>\n",
       "      <td>France</td>\n",
       "      <td>0.902294</td>\n",
       "      <td>1948-1949</td>\n",
       "    </tr>\n",
       "    <tr>\n",
       "      <th>7</th>\n",
       "      <td>Italy</td>\n",
       "      <td>2.410415</td>\n",
       "      <td>1948-1949</td>\n",
       "    </tr>\n",
       "  </tbody>\n",
       "</table>\n",
       "</div>"
      ],
      "text/plain": [
       "          country      first      label\n",
       "12   Soviet Union  69.283320  1948-1949\n",
       "5         Germany  15.274555  1948-1949\n",
       "14  United States   2.333076  1948-1949\n",
       "4          France   0.902294  1948-1949\n",
       "7           Italy   2.410415  1948-1949"
      ]
     },
     "execution_count": 78,
     "metadata": {},
     "output_type": "execute_result"
    }
   ],
   "source": [
    "tmp_first = tmp.copy()\n",
    "tmp_second = tmp.copy() \n",
    "\n",
    "tmp_second['first'] = tmp_second['second']\n",
    "\n",
    "tmp_first['label'] = '1948-1949' \n",
    "tmp_second['label'] = '1954-1955' \n",
    "\n",
    "concat = pd.concat([tmp_first, tmp_second]).drop(columns=['second'])\n",
    "concat.head()"
   ]
  },
  {
   "cell_type": "code",
   "execution_count": 82,
   "id": "8fce6aa1",
   "metadata": {},
   "outputs": [
    {
     "data": {
      "text/html": [
       "<div>\n",
       "<style scoped>\n",
       "    .dataframe tbody tr th:only-of-type {\n",
       "        vertical-align: middle;\n",
       "    }\n",
       "\n",
       "    .dataframe tbody tr th {\n",
       "        vertical-align: top;\n",
       "    }\n",
       "\n",
       "    .dataframe thead th {\n",
       "        text-align: right;\n",
       "    }\n",
       "</style>\n",
       "<table border=\"1\" class=\"dataframe\">\n",
       "  <thead>\n",
       "    <tr style=\"text-align: right;\">\n",
       "      <th></th>\n",
       "      <th>country</th>\n",
       "      <th>first</th>\n",
       "      <th>label</th>\n",
       "    </tr>\n",
       "  </thead>\n",
       "  <tbody>\n",
       "    <tr>\n",
       "      <th>12</th>\n",
       "      <td>Soviet Union</td>\n",
       "      <td>69.283320</td>\n",
       "      <td>1948-1949</td>\n",
       "    </tr>\n",
       "    <tr>\n",
       "      <th>5</th>\n",
       "      <td>Germany</td>\n",
       "      <td>15.274555</td>\n",
       "      <td>1948-1949</td>\n",
       "    </tr>\n",
       "    <tr>\n",
       "      <th>14</th>\n",
       "      <td>United States</td>\n",
       "      <td>2.333076</td>\n",
       "      <td>1948-1949</td>\n",
       "    </tr>\n",
       "    <tr>\n",
       "      <th>4</th>\n",
       "      <td>France</td>\n",
       "      <td>0.902294</td>\n",
       "      <td>1948-1949</td>\n",
       "    </tr>\n",
       "    <tr>\n",
       "      <th>7</th>\n",
       "      <td>Italy</td>\n",
       "      <td>2.410415</td>\n",
       "      <td>1948-1949</td>\n",
       "    </tr>\n",
       "    <tr>\n",
       "      <th>2</th>\n",
       "      <td>Czechoslovakia</td>\n",
       "      <td>1.405001</td>\n",
       "      <td>1948-1949</td>\n",
       "    </tr>\n",
       "    <tr>\n",
       "      <th>0</th>\n",
       "      <td>Austria</td>\n",
       "      <td>1.301882</td>\n",
       "      <td>1948-1949</td>\n",
       "    </tr>\n",
       "    <tr>\n",
       "      <th>6</th>\n",
       "      <td>Hungary</td>\n",
       "      <td>1.160093</td>\n",
       "      <td>1948-1949</td>\n",
       "    </tr>\n",
       "    <tr>\n",
       "      <th>24</th>\n",
       "      <td>Poland</td>\n",
       "      <td>0.489817</td>\n",
       "      <td>1948-1949</td>\n",
       "    </tr>\n",
       "    <tr>\n",
       "      <th>20</th>\n",
       "      <td>India</td>\n",
       "      <td>0.141789</td>\n",
       "      <td>1948-1949</td>\n",
       "    </tr>\n",
       "    <tr>\n",
       "      <th>3</th>\n",
       "      <td>East Germany</td>\n",
       "      <td>0.000000</td>\n",
       "      <td>1948-1949</td>\n",
       "    </tr>\n",
       "    <tr>\n",
       "      <th>12</th>\n",
       "      <td>Soviet Union</td>\n",
       "      <td>54.352833</td>\n",
       "      <td>1954-1955</td>\n",
       "    </tr>\n",
       "    <tr>\n",
       "      <th>5</th>\n",
       "      <td>Germany</td>\n",
       "      <td>1.047904</td>\n",
       "      <td>1954-1955</td>\n",
       "    </tr>\n",
       "    <tr>\n",
       "      <th>14</th>\n",
       "      <td>United States</td>\n",
       "      <td>6.034086</td>\n",
       "      <td>1954-1955</td>\n",
       "    </tr>\n",
       "    <tr>\n",
       "      <th>4</th>\n",
       "      <td>France</td>\n",
       "      <td>5.826808</td>\n",
       "      <td>1954-1955</td>\n",
       "    </tr>\n",
       "    <tr>\n",
       "      <th>7</th>\n",
       "      <td>Italy</td>\n",
       "      <td>3.684938</td>\n",
       "      <td>1954-1955</td>\n",
       "    </tr>\n",
       "    <tr>\n",
       "      <th>2</th>\n",
       "      <td>Czechoslovakia</td>\n",
       "      <td>3.281898</td>\n",
       "      <td>1954-1955</td>\n",
       "    </tr>\n",
       "    <tr>\n",
       "      <th>0</th>\n",
       "      <td>Austria</td>\n",
       "      <td>2.660064</td>\n",
       "      <td>1954-1955</td>\n",
       "    </tr>\n",
       "    <tr>\n",
       "      <th>6</th>\n",
       "      <td>Hungary</td>\n",
       "      <td>2.303086</td>\n",
       "      <td>1954-1955</td>\n",
       "    </tr>\n",
       "    <tr>\n",
       "      <th>24</th>\n",
       "      <td>Poland</td>\n",
       "      <td>1.784892</td>\n",
       "      <td>1954-1955</td>\n",
       "    </tr>\n",
       "    <tr>\n",
       "      <th>20</th>\n",
       "      <td>India</td>\n",
       "      <td>1.911561</td>\n",
       "      <td>1954-1955</td>\n",
       "    </tr>\n",
       "    <tr>\n",
       "      <th>3</th>\n",
       "      <td>East Germany</td>\n",
       "      <td>1.934592</td>\n",
       "      <td>1954-1955</td>\n",
       "    </tr>\n",
       "  </tbody>\n",
       "</table>\n",
       "</div>"
      ],
      "text/plain": [
       "           country      first      label\n",
       "12    Soviet Union  69.283320  1948-1949\n",
       "5          Germany  15.274555  1948-1949\n",
       "14   United States   2.333076  1948-1949\n",
       "4           France   0.902294  1948-1949\n",
       "7            Italy   2.410415  1948-1949\n",
       "2   Czechoslovakia   1.405001  1948-1949\n",
       "0          Austria   1.301882  1948-1949\n",
       "6          Hungary   1.160093  1948-1949\n",
       "24          Poland   0.489817  1948-1949\n",
       "20           India   0.141789  1948-1949\n",
       "3     East Germany   0.000000  1948-1949\n",
       "12    Soviet Union  54.352833  1954-1955\n",
       "5          Germany   1.047904  1954-1955\n",
       "14   United States   6.034086  1954-1955\n",
       "4           France   5.826808  1954-1955\n",
       "7            Italy   3.684938  1954-1955\n",
       "2   Czechoslovakia   3.281898  1954-1955\n",
       "0          Austria   2.660064  1954-1955\n",
       "6          Hungary   2.303086  1954-1955\n",
       "24          Poland   1.784892  1954-1955\n",
       "20           India   1.911561  1954-1955\n",
       "3     East Germany   1.934592  1954-1955"
      ]
     },
     "execution_count": 82,
     "metadata": {},
     "output_type": "execute_result"
    }
   ],
   "source": [
    "concat"
   ]
  },
  {
   "cell_type": "code",
   "execution_count": 84,
   "id": "c2fa6e3f",
   "metadata": {},
   "outputs": [
    {
     "data": {
      "image/png": "[encoded data removed]",
      "text/plain": [
       "<Figure size 1008x432 with 1 Axes>"
      ]
     },
     "metadata": {
      "needs_background": "light"
     },
     "output_type": "display_data"
    }
   ],
   "source": [
    "plt.figure(figsize=(14, 6))\n",
    "sns.barplot(data=concat, x='country', y='first', hue='label') \n",
    "plt.ylabel('Страны') \n",
    "plt.xlabel('%') \n",
    "plt.title('Страны производства фильмов (%)')\n",
    "plt.legend() \n",
    "plt.savefig('movies_countries.jpeg')\n",
    "plt.show()"
   ]
  },
  {
   "cell_type": "markdown",
   "id": "a17b91cd",
   "metadata": {},
   "source": [
    "### Количество кинотеатров относительно ранга"
   ]
  },
  {
   "cell_type": "code",
   "execution_count": 12,
   "id": "ffce8f7c",
   "metadata": {},
   "outputs": [
    {
     "data": {
      "image/png": "[encoded data removed]",
      "text/plain": [
       "<Figure size 720x432 with 1 Axes>"
      ]
     },
     "metadata": {
      "needs_background": "light"
     },
     "output_type": "display_data"
    }
   ],
   "source": [
    "plt.figure(figsize=(10, 6))\n",
    "df['период'] = df['label'] \n",
    "sns.countplot(data=df, x='rank', hue='период')\n",
    "plt.xlabel('ранг') \n",
    "plt.title('Количество кинотеатров по рангам')\n",
    "plt.ylabel('количество')\n",
    "plt.savefig('viz/cinemas_per_rank.jpeg')\n",
    "plt.show()"
   ]
  },
  {
   "cell_type": "code",
   "execution_count": null,
   "id": "8ed25c31",
   "metadata": {},
   "outputs": [],
   "source": []
  },
  {
   "cell_type": "markdown",
   "id": "6d8a2331",
   "metadata": {},
   "source": [
    "### Зависимость количества премьер от ранга "
   ]
  },
  {
   "cell_type": "code",
   "execution_count": 86,
   "id": "b10a1357",
   "metadata": {},
   "outputs": [],
   "source": [
    "df_first_period['new_movies_percentage'] = (df_first_period['new_movies'] / df_first_period['count_movies']) * 100"
   ]
  },
  {
   "cell_type": "code",
   "execution_count": 89,
   "id": "aad07af7",
   "metadata": {},
   "outputs": [],
   "source": [
    "tmp_first = df_first_period.copy() \n",
    "tmp_first = tmp_first.sort_values(by=['rank', 'seats'], ascending=[False, True]) "
   ]
  },
  {
   "cell_type": "code",
   "execution_count": 91,
   "id": "fe17c552",
   "metadata": {},
   "outputs": [
    {
     "data": {
      "text/plain": [
       "<AxesSubplot: xlabel='Cinema', ylabel='new_movies_percentage'>"
      ]
     },
     "execution_count": 91,
     "metadata": {},
     "output_type": "execute_result"
    },
    {
     "data": {
      "image/png": "[encoded data removed]",
      "text/plain": [
       "<Figure size 504x360 with 1 Axes>"
      ]
     },
     "metadata": {
      "needs_background": "light"
     },
     "output_type": "display_data"
    }
   ],
   "source": [
    "plt.figure(figsize=(7, 5))\n",
    "sns.scatterplot(data=tmp_first, x='Cinema', y='new_movies_percentage')"
   ]
  },
  {
   "cell_type": "code",
   "execution_count": 11,
   "id": "0b66c3f3",
   "metadata": {},
   "outputs": [],
   "source": [
    "df['new_movies_percentage'] = (df['new_movies'] / df['count_movies']) * 100"
   ]
  },
  {
   "cell_type": "code",
   "execution_count": 101,
   "id": "88643a8c",
   "metadata": {},
   "outputs": [
    {
     "data": {
      "image/png": "[encoded data removed]",
      "text/plain": [
       "<Figure size 720x576 with 1 Axes>"
      ]
     },
     "metadata": {
      "needs_background": "light"
     },
     "output_type": "display_data"
    }
   ],
   "source": [
    "plt.figure(figsize=(10, 8))\n",
    "box_plot = sns.boxplot(data=df, x='rank', y='new_movies_percentage', hue='label')\n",
    "plt.xlabel('Ранг') \n",
    "plt.title('Распределение процента премьер по рангам кинотеатров')\n",
    "plt.ylabel('Процент премьер')\n",
    "plt.savefig('premiers_percent.jpeg')\n",
    "plt.show()"
   ]
  },
  {
   "cell_type": "markdown",
   "id": "1c3e9584",
   "metadata": {},
   "source": [
    "### Количество экранодней в зависимости от ранга"
   ]
  },
  {
   "cell_type": "code",
   "execution_count": 28,
   "id": "449242bb",
   "metadata": {},
   "outputs": [
    {
     "name": "stderr",
     "output_type": "stream",
     "text": [
      "/tmp/ipykernel_4455/1296372669.py:23: UserWarning: Matplotlib is currently using module://matplotlib_inline.backend_inline, which is a non-GUI backend, so cannot show the figure.\n",
      "  f.show()\n"
     ]
    },
    {
     "data": {
      "text/plain": [
       "<Figure size 576x288 with 0 Axes>"
      ]
     },
     "metadata": {},
     "output_type": "display_data"
    },
    {
     "data": {
      "image/png": "[encoded data removed]",
      "text/plain": [
       "<Figure size 1008x360 with 2 Axes>"
      ]
     },
     "metadata": {
      "needs_background": "light"
     },
     "output_type": "display_data"
    }
   ],
   "source": [
    "plt.figure(figsize=(8, 4)) \n",
    "f, (ax1, ax2) = plt.subplots(1, 2, figsize=(14, 5)) \n",
    "\n",
    "tmp_first = df_first_period.copy() \n",
    "tmp_first = tmp_first.sort_values(by=['screendays_by_year'])\n",
    "\n",
    "ax1.set(ylabel='количество экранодней', \n",
    "        xlabel='ранг', \n",
    "        title='Количество экранодней по отношению к рангу (1948-1949)')\n",
    "# ax1.xlabel('ранг') \n",
    "# ax1.title('Количество экранодней по отношению к рангу (1948-1949)') \n",
    "sns.swarmplot(data=tmp_first, x='rank', y='screendays_by_year', hue='rank', palette=\"Set2\", ax=ax1) \n",
    "\n",
    "tmp_second = df_second_period.copy() \n",
    "tmp_second = tmp_second.sort_values(by=['screendays_by_year'])\n",
    "\n",
    "ax2.set(ylabel=' ', \n",
    "        xlabel='ранг', \n",
    "        title='Количество экранодней по отношению к рангу (1954-1955)')\n",
    "sns.swarmplot(data=tmp_second, x='rank', y='screendays_by_year', hue='rank', palette=\"Set2\", ax=ax2) \n",
    "\n",
    "f.savefig('viz/screendays.jpeg')\n",
    "f.show()"
   ]
  },
  {
   "cell_type": "code",
   "execution_count": 17,
   "id": "a48e50fc",
   "metadata": {},
   "outputs": [],
   "source": [
    "# import plotly.express as px \n",
    "\n",
    "# tmp_first = df_first_period.copy() \n",
    "# tmp_first = tmp_first.sort_values(by=['screendays_by_year'])\n",
    "\n",
    "# tmp_first['dummy_column_for_size'] = 1 \n",
    "# tmp_first['rank'] = tmp_first['rank'].astype(int)\n",
    "\n",
    "# fig = px.scatter(tmp_first, \n",
    "#                  x='Cinema', \n",
    "#                  y='screendays_by_year', \n",
    "#                  color='rank',\n",
    "#                  size='dummy_column_for_size', \n",
    "#                  hover_data=['rank'], \n",
    "#                  size_max=12, \n",
    "#                 labels={'Cinema': 'кинотеатр', \n",
    "#                        'screendays_by_year': 'количество экранодней в году'}, \n",
    "#                 title='Количество экранодней по отношению к рангу (1948-1949)') \n",
    "# fig.show()"
   ]
  },
  {
   "cell_type": "code",
   "execution_count": 16,
   "id": "7f314a92",
   "metadata": {},
   "outputs": [],
   "source": [
    "# tmp_second = df_second_period.copy() \n",
    "# tmp_second = tmp_second.sort_values(by=['screendays_by_year'])\n",
    "\n",
    "# tmp_second['dummy_column_for_size'] = 1 \n",
    "# tmp_second['rank'] = tmp_second['rank'].astype(int)\n",
    "\n",
    "# fig = px.scatter(tmp_second, \n",
    "#                  x='Cinema', \n",
    "#                  y='screendays_by_year', \n",
    "#                  color='rank',\n",
    "#                  size='dummy_column_for_size', \n",
    "#                  hover_data=['rank'], \n",
    "#                  size_max=12, \n",
    "#                 labels={'Cinema': 'кинотеатр', \n",
    "#                        'screendays_by_year': 'количество экранодней в году'}, \n",
    "#                 title='Количество экранодней по отношению к рангу (1954-1955)') \n",
    "# fig.show()"
   ]
  },
  {
   "cell_type": "markdown",
   "id": "8a9bc89a",
   "metadata": {},
   "source": [
    "### Зависимость количества мест и ранга"
   ]
  },
  {
   "cell_type": "code",
   "execution_count": 15,
   "id": "45499b4a",
   "metadata": {},
   "outputs": [],
   "source": [
    "# import plotly.express as px \n",
    "\n",
    "# tmp_first = df_first_period.copy() \n",
    "# tmp_first = tmp_first.sort_values(by=['seats'])\n",
    "\n",
    "# tmp_first['dummy_column_for_size'] = 1 \n",
    "# tmp_first['rank'] = tmp_first['rank'].astype(int)\n",
    "\n",
    "# fig = px.scatter(tmp_first, \n",
    "#                  x='Cinema', \n",
    "#                  y='seats', \n",
    "#                  color='rank',\n",
    "#                  size='dummy_column_for_size', \n",
    "#                  hover_data=['rank'], \n",
    "#                  size_max=12, \n",
    "#                 labels={'seats': 'количество посадочных мест', \n",
    "#                        'Cinema': 'кинотеатр'}, \n",
    "#                 title='Количество посадочных мест по отношению к рангу (1948-1949)') \n",
    "\n",
    "# fig.write_image(\"viz/seats_first_period.jpeg\")\n",
    "# fig.show()"
   ]
  },
  {
   "cell_type": "code",
   "execution_count": 14,
   "id": "240c2889",
   "metadata": {},
   "outputs": [],
   "source": [
    "# tmp_second = df_second_period.copy() \n",
    "# tmp_second = tmp_second.sort_values(by=['seats'])\n",
    "\n",
    "# tmp_second['dummy_column_for_size'] = 1 \n",
    "# tmp_second['rank'] = tmp_second['rank'].astype(int)\n",
    "\n",
    "# fig = px.scatter(tmp_second, \n",
    "#                  x='Cinema', \n",
    "#                  y='seats', \n",
    "#                  color='rank',\n",
    "#                  size='dummy_column_for_size', \n",
    "#                  hover_data=['rank'], \n",
    "#                  size_max=12, \n",
    "#                 labels={'seats': 'количество посадочных мест', \n",
    "#                        'Cinema': 'кинотеатр'}, \n",
    "#                 title='Количество посадочных мест по отношению к рангу (1954-1955)') \n",
    "\n",
    "# fig.write_image(\"viz/seats_second_period.jpeg\")\n",
    "# fig.show()"
   ]
  },
  {
   "cell_type": "markdown",
   "id": "219aae37",
   "metadata": {},
   "source": [
    "### Количество фильмов с премиями и \"плохими\" отзывами"
   ]
  },
  {
   "cell_type": "code",
   "execution_count": 30,
   "id": "540a9dad",
   "metadata": {},
   "outputs": [
    {
     "name": "stderr",
     "output_type": "stream",
     "text": [
      "/tmp/ipykernel_4455/503098182.py:23: UserWarning: Matplotlib is currently using module://matplotlib_inline.backend_inline, which is a non-GUI backend, so cannot show the figure.\n",
      "  f.show()\n"
     ]
    },
    {
     "data": {
      "text/plain": [
       "<Figure size 720x360 with 0 Axes>"
      ]
     },
     "metadata": {},
     "output_type": "display_data"
    },
    {
     "data": {
      "image/png": "[encoded data removed]",
      "text/plain": [
       "<Figure size 1152x432 with 2 Axes>"
      ]
     },
     "metadata": {
      "needs_background": "light"
     },
     "output_type": "display_data"
    }
   ],
   "source": [
    "plt.figure(figsize=(10, 5)) \n",
    "f, (ax1, ax2) = plt.subplots(1, 2, figsize=(16, 6)) \n",
    "\n",
    "tmp_first = df_first_period.copy() \n",
    "# tmp_first = tmp_first.sort_values(by=[''])\n",
    "df['is_award_percentage'] = (df['is_award'] / df['count_movies']) * 100 \n",
    "df['is_censure_percentage'] = (df['is_censure'] / df['count_movies']) * 100\n",
    "\n",
    "ax1.set(ylabel='%', \n",
    "        xlabel='ранг', \n",
    "        title=' Процент фильмов с премиями')\n",
    "sns.swarmplot(data=df, x='rank', y='is_award_percentage', hue='label', ax=ax1) \n",
    "\n",
    "tmp_second = df_second_period.copy() \n",
    "tmp_second = tmp_second.sort_values(by=['screendays_by_year'])\n",
    "\n",
    "ax2.set(ylabel='%', \n",
    "        xlabel='ранг', \n",
    "        title='Процент фильмов с плохими правительственными отзывами')\n",
    "sns.swarmplot(data=df, x='rank', y='is_censure_percentage', hue='label', ax=ax2) \n",
    "\n",
    "f.savefig('viz/movies_censure.jpeg')\n",
    "f.show()"
   ]
  },
  {
   "cell_type": "markdown",
   "id": "89773537",
   "metadata": {},
   "source": [
    "### Среднее количество экранодней "
   ]
  },
  {
   "cell_type": "code",
   "execution_count": 5,
   "id": "5d62a8b5",
   "metadata": {},
   "outputs": [
    {
     "data": {
      "image/png": "[encoded data removed]",
      "text/plain": [
       "<Figure size 720x576 with 1 Axes>"
      ]
     },
     "metadata": {
      "needs_background": "light"
     },
     "output_type": "display_data"
    }
   ],
   "source": [
    "plt.figure(figsize=(10, 8))\n",
    "box_plot = sns.boxplot(data=df, x='rank', y='mean_distrib', hue='label')\n",
    "plt.xlabel('ранг') \n",
    "plt.title('Среднее количество экранодней для одного фильма')\n",
    "plt.ylabel('экранодней')\n",
    "plt.savefig('viz/mean_distrib.jpeg')\n",
    "plt.show()"
   ]
  },
  {
   "cell_type": "markdown",
   "id": "97caa197",
   "metadata": {},
   "source": [
    "## Кластеризация"
   ]
  },
  {
   "cell_type": "code",
   "execution_count": 7,
   "id": "083b0781",
   "metadata": {},
   "outputs": [],
   "source": [
    "columns_to_drop = ['rank', 'Screening Days', 'Cinema', 'label']"
   ]
  },
  {
   "cell_type": "code",
   "execution_count": 8,
   "id": "7e45756c",
   "metadata": {},
   "outputs": [
    {
     "data": {
      "text/html": [
       "<style>#sk-container-id-1 {color: black;background-color: white;}#sk-container-id-1 pre{padding: 0;}#sk-container-id-1 div.sk-toggleable {background-color: white;}#sk-container-id-1 label.sk-toggleable__label {cursor: pointer;display: block;width: 100%;margin-bottom: 0;padding: 0.3em;box-sizing: border-box;text-align: center;}#sk-container-id-1 label.sk-toggleable__label-arrow:before {content: \"▸\";float: left;margin-right: 0.25em;color: #696969;}#sk-container-id-1 label.sk-toggleable__label-arrow:hover:before {color: black;}#sk-container-id-1 div.sk-estimator:hover label.sk-toggleable__label-arrow:before {color: black;}#sk-container-id-1 div.sk-toggleable__content {max-height: 0;max-width: 0;overflow: hidden;text-align: left;background-color: #f0f8ff;}#sk-container-id-1 div.sk-toggleable__content pre {margin: 0.2em;color: black;border-radius: 0.25em;background-color: #f0f8ff;}#sk-container-id-1 input.sk-toggleable__control:checked~div.sk-toggleable__content {max-height: 200px;max-width: 100%;overflow: auto;}#sk-container-id-1 input.sk-toggleable__control:checked~label.sk-toggleable__label-arrow:before {content: \"▾\";}#sk-container-id-1 div.sk-estimator input.sk-toggleable__control:checked~label.sk-toggleable__label {background-color: #d4ebff;}#sk-container-id-1 div.sk-label input.sk-toggleable__control:checked~label.sk-toggleable__label {background-color: #d4ebff;}#sk-container-id-1 input.sk-hidden--visually {border: 0;clip: rect(1px 1px 1px 1px);clip: rect(1px, 1px, 1px, 1px);height: 1px;margin: -1px;overflow: hidden;padding: 0;position: absolute;width: 1px;}#sk-container-id-1 div.sk-estimator {font-family: monospace;background-color: #f0f8ff;border: 1px dotted black;border-radius: 0.25em;box-sizing: border-box;margin-bottom: 0.5em;}#sk-container-id-1 div.sk-estimator:hover {background-color: #d4ebff;}#sk-container-id-1 div.sk-parallel-item::after {content: \"\";width: 100%;border-bottom: 1px solid gray;flex-grow: 1;}#sk-container-id-1 div.sk-label:hover label.sk-toggleable__label {background-color: #d4ebff;}#sk-container-id-1 div.sk-serial::before {content: \"\";position: absolute;border-left: 1px solid gray;box-sizing: border-box;top: 0;bottom: 0;left: 50%;z-index: 0;}#sk-container-id-1 div.sk-serial {display: flex;flex-direction: column;align-items: center;background-color: white;padding-right: 0.2em;padding-left: 0.2em;position: relative;}#sk-container-id-1 div.sk-item {position: relative;z-index: 1;}#sk-container-id-1 div.sk-parallel {display: flex;align-items: stretch;justify-content: center;background-color: white;position: relative;}#sk-container-id-1 div.sk-item::before, #sk-container-id-1 div.sk-parallel-item::before {content: \"\";position: absolute;border-left: 1px solid gray;box-sizing: border-box;top: 0;bottom: 0;left: 50%;z-index: -1;}#sk-container-id-1 div.sk-parallel-item {display: flex;flex-direction: column;z-index: 1;position: relative;background-color: white;}#sk-container-id-1 div.sk-parallel-item:first-child::after {align-self: flex-end;width: 50%;}#sk-container-id-1 div.sk-parallel-item:last-child::after {align-self: flex-start;width: 50%;}#sk-container-id-1 div.sk-parallel-item:only-child::after {width: 0;}#sk-container-id-1 div.sk-dashed-wrapped {border: 1px dashed gray;margin: 0 0.4em 0.5em 0.4em;box-sizing: border-box;padding-bottom: 0.4em;background-color: white;}#sk-container-id-1 div.sk-label label {font-family: monospace;font-weight: bold;display: inline-block;line-height: 1.2em;}#sk-container-id-1 div.sk-label-container {text-align: center;}#sk-container-id-1 div.sk-container {/* jupyter's `normalize.less` sets `[hidden] { display: none; }` but bootstrap.min.css set `[hidden] { display: none !important; }` so we also need the `!important` here to be able to override the default hidden behavior on the sphinx rendered scikit-learn.org. See: https://github.com/scikit-learn/scikit-learn/issues/21755 */display: inline-block !important;position: relative;}#sk-container-id-1 div.sk-text-repr-fallback {display: none;}</style><div id=\"sk-container-id-1\" class=\"sk-top-container\"><div class=\"sk-text-repr-fallback\"><pre>KMeans(n_clusters=3, n_init=&#x27;auto&#x27;, random_state=42)</pre><b>In a Jupyter environment, please rerun this cell to show the HTML representation or trust the notebook. <br />On GitHub, the HTML representation is unable to render, please try loading this page with nbviewer.org.</b></div><div class=\"sk-container\" hidden><div class=\"sk-item\"><div class=\"sk-estimator sk-toggleable\"><input class=\"sk-toggleable__control sk-hidden--visually\" id=\"sk-estimator-id-1\" type=\"checkbox\" checked><label for=\"sk-estimator-id-1\" class=\"sk-toggleable__label sk-toggleable__label-arrow\">KMeans</label><div class=\"sk-toggleable__content\"><pre>KMeans(n_clusters=3, n_init=&#x27;auto&#x27;, random_state=42)</pre></div></div></div></div></div>"
      ],
      "text/plain": [
       "KMeans(n_clusters=3, n_init='auto', random_state=42)"
      ]
     },
     "execution_count": 8,
     "metadata": {},
     "output_type": "execute_result"
    }
   ],
   "source": [
    "from sklearn.cluster import KMeans\n",
    "\n",
    "kmeans = KMeans(n_clusters=3, random_state=42, n_init=\"auto\")\n",
    "kmeans.fit(df_first_period.drop(columns=['rank', 'Screening Days', 'Cinema', 'label']))"
   ]
  },
  {
   "cell_type": "code",
   "execution_count": 9,
   "id": "2f65366e",
   "metadata": {},
   "outputs": [],
   "source": [
    "labels = kmeans.predict(df_first_period.drop(columns=columns_to_drop))"
   ]
  },
  {
   "cell_type": "code",
   "execution_count": 10,
   "id": "5db8545c",
   "metadata": {},
   "outputs": [
    {
     "name": "stdout",
     "output_type": "stream",
     "text": [
      "              precision    recall  f1-score   support\n",
      "\n",
      "           0       0.79      0.71      0.75        21\n",
      "           1       0.62      0.76      0.68        17\n",
      "           2       0.00      0.00      0.00         5\n",
      "\n",
      "    accuracy                           0.65        43\n",
      "   macro avg       0.47      0.49      0.48        43\n",
      "weighted avg       0.63      0.65      0.64        43\n",
      "\n"
     ]
    }
   ],
   "source": [
    "from sklearn.metrics import classification_report\n",
    "\n",
    "print(classification_report(df_first_period['rank'] - 1, labels))"
   ]
  },
  {
   "cell_type": "code",
   "execution_count": 11,
   "id": "b8f59c63",
   "metadata": {},
   "outputs": [],
   "source": [
    "from sklearn.manifold import TSNE "
   ]
  },
  {
   "cell_type": "code",
   "execution_count": 12,
   "id": "92106710",
   "metadata": {},
   "outputs": [],
   "source": [
    "X_embedded = TSNE(n_components=2).fit_transform(df_first_period.drop(columns=columns_to_drop))"
   ]
  },
  {
   "cell_type": "code",
   "execution_count": 32,
   "id": "98ef6772",
   "metadata": {},
   "outputs": [],
   "source": [
    "results = pd.DataFrame({\n",
    "    'x': X_embedded[:, 0], \n",
    "    'y': X_embedded[:, 1], \n",
    "    'разряд': df_first_period['rank'].astype('category'), \n",
    "    'predict': labels + 1 \n",
    "})\n",
    "\n",
    "results = results.sort_values('разряд')"
   ]
  },
  {
   "cell_type": "code",
   "execution_count": 9,
   "id": "b0a1e250",
   "metadata": {},
   "outputs": [],
   "source": [
    "import plotly.express as px \n",
    "\n",
    "fig = px.scatter(results, x='x', y='y')\n",
    "fig.show()"
   ]
  },
  {
   "cell_type": "code",
   "execution_count": 10,
   "id": "6455270e",
   "metadata": {},
   "outputs": [],
   "source": [
    "# fig1 = px.scatter(results, x='x', y='y', \n",
    "#                   color='разряд', \n",
    "#                  title='Признаки кинотеатров (1948-1949)')\n",
    "\n",
    "# fig1.write_image('viz/clusterisation_first_period.jpeg')\n",
    "# fig1.show()"
   ]
  },
  {
   "cell_type": "code",
   "execution_count": 17,
   "id": "78f5537e",
   "metadata": {},
   "outputs": [],
   "source": [
    "X_embed_second = TSNE(n_components=2).fit_transform(df_second_period.drop(columns=columns_to_drop))"
   ]
  },
  {
   "cell_type": "code",
   "execution_count": 30,
   "id": "2963f1e4",
   "metadata": {},
   "outputs": [],
   "source": [
    "results_second = pd.DataFrame({\n",
    "    'x': X_embed_second[:, 0], \n",
    "    'y': X_embed_second[:, 1], \n",
    "    'разряд': df_second_period['rank'].astype('category')\n",
    "})\n",
    "\n",
    "results_second = results_second.sort_values(by='разряд')"
   ]
  },
  {
   "cell_type": "code",
   "execution_count": 9,
   "id": "fb438eb0",
   "metadata": {},
   "outputs": [],
   "source": [
    "# fig1 = px.scatter(results_second, x='x', y='y', \n",
    "#                   color='разряд', \n",
    "#                  title='Признаки кинотеатров (1954-1955)')\n",
    "\n",
    "# fig1.write_image('viz/clusterisation_second_period.jpeg')\n",
    "# fig1.show()"
   ]
  },
  {
   "cell_type": "code",
   "execution_count": 8,
   "id": "80c1d4c9",
   "metadata": {},
   "outputs": [],
   "source": [
    "# fig2 = px.scatter(results, x='x', y='y', color='predict')\n",
    "# fig2.show()"
   ]
  },
  {
   "cell_type": "markdown",
   "id": "20f11c2c",
   "metadata": {},
   "source": [
    "## Классификация"
   ]
  },
  {
   "cell_type": "markdown",
   "id": "c088f51d",
   "metadata": {},
   "source": [
    "### Catboost"
   ]
  },
  {
   "cell_type": "code",
   "execution_count": 31,
   "id": "ff842a80",
   "metadata": {},
   "outputs": [],
   "source": [
    "from catboost import CatBoostClassifier, Pool\n",
    "from sklearn.model_selection import train_test_split\n",
    "import shap"
   ]
  },
  {
   "cell_type": "code",
   "execution_count": 38,
   "id": "ac3d630c",
   "metadata": {},
   "outputs": [],
   "source": [
    "df_train, df_test = train_test_split(df, \n",
    "                                     test_size=0.2, \n",
    "                                     stratify=df[['label', 'rank']], \n",
    "                                    random_state=42)"
   ]
  },
  {
   "cell_type": "code",
   "execution_count": 39,
   "id": "2aca1984",
   "metadata": {},
   "outputs": [],
   "source": [
    "X_train = df_train.drop(columns=columns_to_drop) \n",
    "X_test = df_test.drop(columns=columns_to_drop) \n",
    "\n",
    "y_train = df_train['rank']\n",
    "y_test = df_test['rank']"
   ]
  },
  {
   "cell_type": "code",
   "execution_count": 26,
   "id": "a72b0500",
   "metadata": {},
   "outputs": [
    {
     "data": {
      "text/plain": [
       "<catboost.core.CatBoostClassifier at 0x7f42dad6ab90>"
      ]
     },
     "execution_count": 26,
     "metadata": {},
     "output_type": "execute_result"
    }
   ],
   "source": [
    "model = CatBoostClassifier(iterations=1000, random_state=42)\n",
    "\n",
    "model.fit(X_train,\n",
    "          y_train,\n",
    "          verbose=False)"
   ]
  },
  {
   "cell_type": "code",
   "execution_count": 27,
   "id": "d36c1956",
   "metadata": {},
   "outputs": [],
   "source": [
    "y_predict = model.predict(X_test) "
   ]
  },
  {
   "cell_type": "code",
   "execution_count": 28,
   "id": "f033640b",
   "metadata": {},
   "outputs": [
    {
     "name": "stdout",
     "output_type": "stream",
     "text": [
      "              precision    recall  f1-score   support\n",
      "\n",
      "           1       1.00      0.88      0.93         8\n",
      "           2       0.71      0.83      0.77         6\n",
      "           3       0.67      0.67      0.67         3\n",
      "\n",
      "    accuracy                           0.82        17\n",
      "   macro avg       0.79      0.79      0.79        17\n",
      "weighted avg       0.84      0.82      0.83        17\n",
      "\n"
     ]
    }
   ],
   "source": [
    "from sklearn.metrics import classification_report \n",
    "\n",
    "print(classification_report(y_test, y_predict))"
   ]
  },
  {
   "cell_type": "code",
   "execution_count": 46,
   "id": "57604412",
   "metadata": {},
   "outputs": [],
   "source": [
    "X = df.drop(columns=columns_to_drop) \n",
    "y = df['rank']"
   ]
  },
  {
   "cell_type": "code",
   "execution_count": 30,
   "id": "9ac76e58",
   "metadata": {},
   "outputs": [],
   "source": [
    "feature_importance = model.get_feature_importance(Pool(X, y))"
   ]
  },
  {
   "cell_type": "code",
   "execution_count": 31,
   "id": "6e5d6499",
   "metadata": {},
   "outputs": [
    {
     "data": {
      "text/plain": [
       "array([1.21780113e+00, 7.39936038e-01, 9.06675299e-01, 8.37972241e-01,\n",
       "       8.59210029e-01, 1.33126606e+00, 8.65183872e-01, 8.40899518e-01,\n",
       "       0.00000000e+00, 1.14618222e+00, 1.37666208e+00, 8.65428427e+00,\n",
       "       2.40705674e-01, 1.33138939e+00, 1.58474725e+00, 6.16073259e+00,\n",
       "       4.11707062e+00, 3.45215021e-01, 1.20924191e+00, 7.62754701e-01,\n",
       "       3.19142246e-01, 0.00000000e+00, 4.43001647e-01, 6.99430430e-01,\n",
       "       2.58969558e+00, 3.03039308e-01, 1.27240852e+00, 2.93068137e-01,\n",
       "       1.56072561e+00, 1.18523816e+00, 1.36020169e-01, 2.11828404e+00,\n",
       "       0.00000000e+00, 3.38896769e-01, 6.83892563e-01, 1.48518933e-01,\n",
       "       2.14666665e+00, 1.57029638e+00, 1.96347640e-01, 1.21090670e-01,\n",
       "       9.31404672e-01, 5.37945825e-02, 2.93343502e-01, 3.36631203e-01,\n",
       "       9.77346301e-01, 3.32316182e-01, 3.41005980e-01, 7.03890862e-02,\n",
       "       2.35714459e+00, 2.25214496e-03, 5.78328599e-02, 0.00000000e+00,\n",
       "       2.12737846e-01, 6.68099980e-01, 6.65149499e-01, 5.59461267e+00,\n",
       "       1.23779447e+00, 7.19732825e-01, 9.64905923e-01, 1.80558978e+00,\n",
       "       3.52363411e+00, 2.52773345e+01, 1.86180745e+00, 9.42295645e-01,\n",
       "       1.19150841e-01])"
      ]
     },
     "execution_count": 31,
     "metadata": {},
     "output_type": "execute_result"
    }
   ],
   "source": [
    "feature_importance"
   ]
  },
  {
   "cell_type": "code",
   "execution_count": 32,
   "id": "9f4a8b17",
   "metadata": {},
   "outputs": [
    {
     "data": {
      "text/plain": [
       "Index(['rating', 'Adventure', 'Biography', 'Comedy', 'Crime', 'Drama',\n",
       "       'Family', 'Fantasy', 'Film-Noir', 'History', 'Music', 'Musical',\n",
       "       'Mystery', 'Romance', 'Sci-Fi', 'Short', 'Sport', 'Thriller', 'War',\n",
       "       'Western', 'Action', 'Adult', 'Animation', 'Documentary', 'Austria',\n",
       "       'China', 'Czechoslovakia', 'East Germany', 'France', 'Germany',\n",
       "       'Hungary', 'Italy', 'Kazakhstan', 'Mongolia', 'Netherlands', 'Norway',\n",
       "       'Soviet Union', 'United Kingdom', 'United States', 'Albania',\n",
       "       'Argentina', 'Australia', 'Bulgaria', 'Finland', 'India', 'Japan',\n",
       "       'Mexico', 'North Korea', 'Poland', 'Romania', 'Russia', 'Spain',\n",
       "       'Sweden', 'West Germany', 'Yugoslavia', 'is_foreign', 'is_award',\n",
       "       'is_censure', 'count_movies', 'screendays_by_year', 'mean_distrib',\n",
       "       'seats', 'soviet_movies', 'new_movies', 'period'],\n",
       "      dtype='object')"
      ]
     },
     "execution_count": 32,
     "metadata": {},
     "output_type": "execute_result"
    }
   ],
   "source": [
    "X.columns"
   ]
  },
  {
   "cell_type": "code",
   "execution_count": 33,
   "id": "ed4f09df",
   "metadata": {},
   "outputs": [
    {
     "data": {
      "text/plain": [
       "65"
      ]
     },
     "execution_count": 33,
     "metadata": {},
     "output_type": "execute_result"
    }
   ],
   "source": [
    "len(feature_importance)"
   ]
  },
  {
   "cell_type": "code",
   "execution_count": 36,
   "id": "dc7d9e0c",
   "metadata": {},
   "outputs": [],
   "source": [
    "df_importance_new = pd.DataFrame({\n",
    "    'feature_name': list(X.columns), \n",
    "    'feature_importance': feature_importance\n",
    "}).sort_values(by='feature_importance', ascending=False)"
   ]
  },
  {
   "cell_type": "code",
   "execution_count": 37,
   "id": "27bd5ab4",
   "metadata": {},
   "outputs": [
    {
     "data": {
      "text/plain": [
       "<AxesSubplot: xlabel='feature_importance', ylabel='feature_name'>"
      ]
     },
     "execution_count": 37,
     "metadata": {},
     "output_type": "execute_result"
    },
    {
     "data": {
      "image/png": "[encoded data removed]",
      "text/plain": [
       "<Figure size 576x864 with 1 Axes>"
      ]
     },
     "metadata": {
      "needs_background": "light"
     },
     "output_type": "display_data"
    }
   ],
   "source": [
    "plt.figure(figsize=(8, 12))\n",
    "sns.barplot(data=df_importance_new, y='feature_name', x='feature_importance', orient='h')"
   ]
  },
  {
   "cell_type": "code",
   "execution_count": null,
   "id": "0f050385",
   "metadata": {},
   "outputs": [],
   "source": [
    "explainer = shap.TreeExplainer(model, X_test)\n",
    "shap_values = explainer(X_test)"
   ]
  },
  {
   "cell_type": "code",
   "execution_count": 17,
   "id": "232b6bee",
   "metadata": {},
   "outputs": [
    {
     "ename": "ValueError",
     "evalue": "the beeswarm plot requires Explanation object as the `shap_values` argument",
     "output_type": "error",
     "traceback": [
      "\u001b[0;31m---------------------------------------------------------------------------\u001b[0m",
      "\u001b[0;31mValueError\u001b[0m                                Traceback (most recent call last)",
      "Input \u001b[0;32mIn [17]\u001b[0m, in \u001b[0;36m<cell line: 1>\u001b[0;34m()\u001b[0m\n\u001b[0;32m----> 1\u001b[0m \u001b[43mshap\u001b[49m\u001b[38;5;241;43m.\u001b[39;49m\u001b[43mplots\u001b[49m\u001b[38;5;241;43m.\u001b[39;49m\u001b[43mbeeswarm\u001b[49m\u001b[43m(\u001b[49m\u001b[43mfeature_importance\u001b[49m\u001b[43m)\u001b[49m\n",
      "File \u001b[0;32m~/.local/lib/python3.10/site-packages/shap/plots/_beeswarm.py:46\u001b[0m, in \u001b[0;36mbeeswarm\u001b[0;34m(shap_values, max_display, order, clustering, cluster_threshold, color, axis_color, alpha, show, log_scale, color_bar, plot_size, color_bar_label)\u001b[0m\n\u001b[1;32m     27\u001b[0m \u001b[38;5;250m\u001b[39m\u001b[38;5;124;03m\"\"\"Create a SHAP beeswarm plot, colored by feature values when they are provided.\u001b[39;00m\n\u001b[1;32m     28\u001b[0m \n\u001b[1;32m     29\u001b[0m \u001b[38;5;124;03mParameters\u001b[39;00m\n\u001b[0;32m   (...)\u001b[0m\n\u001b[1;32m     42\u001b[0m \u001b[38;5;124;03m    unchanged.\u001b[39;00m\n\u001b[1;32m     43\u001b[0m \u001b[38;5;124;03m\"\"\"\u001b[39;00m\n\u001b[1;32m     45\u001b[0m \u001b[38;5;28;01mif\u001b[39;00m \u001b[38;5;129;01mnot\u001b[39;00m \u001b[38;5;28misinstance\u001b[39m(shap_values, Explanation):\n\u001b[0;32m---> 46\u001b[0m     \u001b[38;5;28;01mraise\u001b[39;00m \u001b[38;5;167;01mValueError\u001b[39;00m(\u001b[38;5;124m\"\u001b[39m\u001b[38;5;124mthe beeswarm plot requires Explanation object as the `shap_values` argument\u001b[39m\u001b[38;5;124m\"\u001b[39m)\n\u001b[1;32m     48\u001b[0m \u001b[38;5;28;01mif\u001b[39;00m \u001b[38;5;28mlen\u001b[39m(shap_values\u001b[38;5;241m.\u001b[39mshape) \u001b[38;5;241m==\u001b[39m \u001b[38;5;241m1\u001b[39m:\n\u001b[1;32m     49\u001b[0m     \u001b[38;5;28;01mraise\u001b[39;00m \u001b[38;5;167;01mValueError\u001b[39;00m(\n\u001b[1;32m     50\u001b[0m         \u001b[38;5;124m\"\u001b[39m\u001b[38;5;124mThe beeswarm plot does not support plotting a single instance, please pass \u001b[39m\u001b[38;5;124m\"\u001b[39m\n\u001b[1;32m     51\u001b[0m         \u001b[38;5;124m\"\u001b[39m\u001b[38;5;124man explanation matrix with many instances!\u001b[39m\u001b[38;5;124m\"\u001b[39m\n\u001b[1;32m     52\u001b[0m     )\n",
      "\u001b[0;31mValueError\u001b[0m: the beeswarm plot requires Explanation object as the `shap_values` argument"
     ]
    }
   ],
   "source": [
    "shap.plots.beeswarm(feature_importance)"
   ]
  },
  {
   "cell_type": "code",
   "execution_count": null,
   "id": "dbdabe04",
   "metadata": {},
   "outputs": [],
   "source": []
  },
  {
   "cell_type": "markdown",
   "id": "777c9e7b",
   "metadata": {},
   "source": [
    "### Logreg"
   ]
  },
  {
   "cell_type": "code",
   "execution_count": 33,
   "id": "b0c17c81",
   "metadata": {},
   "outputs": [],
   "source": [
    "from sklearn.linear_model import LogisticRegression "
   ]
  },
  {
   "cell_type": "code",
   "execution_count": 35,
   "id": "3a4b0b9f",
   "metadata": {},
   "outputs": [
    {
     "name": "stderr",
     "output_type": "stream",
     "text": [
      "/home/timcha/.local/lib/python3.10/site-packages/sklearn/linear_model/_logistic.py:458: ConvergenceWarning: lbfgs failed to converge (status=1):\n",
      "STOP: TOTAL NO. of ITERATIONS REACHED LIMIT.\n",
      "\n",
      "Increase the number of iterations (max_iter) or scale the data as shown in:\n",
      "    https://scikit-learn.org/stable/modules/preprocessing.html\n",
      "Please also refer to the documentation for alternative solver options:\n",
      "    https://scikit-learn.org/stable/modules/linear_model.html#logistic-regression\n",
      "  n_iter_i = _check_optimize_result(\n"
     ]
    },
    {
     "data": {
      "text/html": [
       "<style>#sk-container-id-2 {color: black;background-color: white;}#sk-container-id-2 pre{padding: 0;}#sk-container-id-2 div.sk-toggleable {background-color: white;}#sk-container-id-2 label.sk-toggleable__label {cursor: pointer;display: block;width: 100%;margin-bottom: 0;padding: 0.3em;box-sizing: border-box;text-align: center;}#sk-container-id-2 label.sk-toggleable__label-arrow:before {content: \"▸\";float: left;margin-right: 0.25em;color: #696969;}#sk-container-id-2 label.sk-toggleable__label-arrow:hover:before {color: black;}#sk-container-id-2 div.sk-estimator:hover label.sk-toggleable__label-arrow:before {color: black;}#sk-container-id-2 div.sk-toggleable__content {max-height: 0;max-width: 0;overflow: hidden;text-align: left;background-color: #f0f8ff;}#sk-container-id-2 div.sk-toggleable__content pre {margin: 0.2em;color: black;border-radius: 0.25em;background-color: #f0f8ff;}#sk-container-id-2 input.sk-toggleable__control:checked~div.sk-toggleable__content {max-height: 200px;max-width: 100%;overflow: auto;}#sk-container-id-2 input.sk-toggleable__control:checked~label.sk-toggleable__label-arrow:before {content: \"▾\";}#sk-container-id-2 div.sk-estimator input.sk-toggleable__control:checked~label.sk-toggleable__label {background-color: #d4ebff;}#sk-container-id-2 div.sk-label input.sk-toggleable__control:checked~label.sk-toggleable__label {background-color: #d4ebff;}#sk-container-id-2 input.sk-hidden--visually {border: 0;clip: rect(1px 1px 1px 1px);clip: rect(1px, 1px, 1px, 1px);height: 1px;margin: -1px;overflow: hidden;padding: 0;position: absolute;width: 1px;}#sk-container-id-2 div.sk-estimator {font-family: monospace;background-color: #f0f8ff;border: 1px dotted black;border-radius: 0.25em;box-sizing: border-box;margin-bottom: 0.5em;}#sk-container-id-2 div.sk-estimator:hover {background-color: #d4ebff;}#sk-container-id-2 div.sk-parallel-item::after {content: \"\";width: 100%;border-bottom: 1px solid gray;flex-grow: 1;}#sk-container-id-2 div.sk-label:hover label.sk-toggleable__label {background-color: #d4ebff;}#sk-container-id-2 div.sk-serial::before {content: \"\";position: absolute;border-left: 1px solid gray;box-sizing: border-box;top: 0;bottom: 0;left: 50%;z-index: 0;}#sk-container-id-2 div.sk-serial {display: flex;flex-direction: column;align-items: center;background-color: white;padding-right: 0.2em;padding-left: 0.2em;position: relative;}#sk-container-id-2 div.sk-item {position: relative;z-index: 1;}#sk-container-id-2 div.sk-parallel {display: flex;align-items: stretch;justify-content: center;background-color: white;position: relative;}#sk-container-id-2 div.sk-item::before, #sk-container-id-2 div.sk-parallel-item::before {content: \"\";position: absolute;border-left: 1px solid gray;box-sizing: border-box;top: 0;bottom: 0;left: 50%;z-index: -1;}#sk-container-id-2 div.sk-parallel-item {display: flex;flex-direction: column;z-index: 1;position: relative;background-color: white;}#sk-container-id-2 div.sk-parallel-item:first-child::after {align-self: flex-end;width: 50%;}#sk-container-id-2 div.sk-parallel-item:last-child::after {align-self: flex-start;width: 50%;}#sk-container-id-2 div.sk-parallel-item:only-child::after {width: 0;}#sk-container-id-2 div.sk-dashed-wrapped {border: 1px dashed gray;margin: 0 0.4em 0.5em 0.4em;box-sizing: border-box;padding-bottom: 0.4em;background-color: white;}#sk-container-id-2 div.sk-label label {font-family: monospace;font-weight: bold;display: inline-block;line-height: 1.2em;}#sk-container-id-2 div.sk-label-container {text-align: center;}#sk-container-id-2 div.sk-container {/* jupyter's `normalize.less` sets `[hidden] { display: none; }` but bootstrap.min.css set `[hidden] { display: none !important; }` so we also need the `!important` here to be able to override the default hidden behavior on the sphinx rendered scikit-learn.org. See: https://github.com/scikit-learn/scikit-learn/issues/21755 */display: inline-block !important;position: relative;}#sk-container-id-2 div.sk-text-repr-fallback {display: none;}</style><div id=\"sk-container-id-2\" class=\"sk-top-container\"><div class=\"sk-text-repr-fallback\"><pre>LogisticRegression(random_state=42)</pre><b>In a Jupyter environment, please rerun this cell to show the HTML representation or trust the notebook. <br />On GitHub, the HTML representation is unable to render, please try loading this page with nbviewer.org.</b></div><div class=\"sk-container\" hidden><div class=\"sk-item\"><div class=\"sk-estimator sk-toggleable\"><input class=\"sk-toggleable__control sk-hidden--visually\" id=\"sk-estimator-id-2\" type=\"checkbox\" checked><label for=\"sk-estimator-id-2\" class=\"sk-toggleable__label sk-toggleable__label-arrow\">LogisticRegression</label><div class=\"sk-toggleable__content\"><pre>LogisticRegression(random_state=42)</pre></div></div></div></div></div>"
      ],
      "text/plain": [
       "LogisticRegression(random_state=42)"
      ]
     },
     "execution_count": 35,
     "metadata": {},
     "output_type": "execute_result"
    }
   ],
   "source": [
    "clf = LogisticRegression(random_state=42) \n",
    "clf.fit(X_train, y_train)"
   ]
  },
  {
   "cell_type": "code",
   "execution_count": 36,
   "id": "ef1e4470",
   "metadata": {},
   "outputs": [
    {
     "name": "stdout",
     "output_type": "stream",
     "text": [
      "              precision    recall  f1-score   support\n",
      "\n",
      "           1       0.70      0.88      0.78         8\n",
      "           2       0.40      0.33      0.36         6\n",
      "           3       0.50      0.33      0.40         3\n",
      "\n",
      "    accuracy                           0.59        17\n",
      "   macro avg       0.53      0.51      0.51        17\n",
      "weighted avg       0.56      0.59      0.56        17\n",
      "\n"
     ]
    }
   ],
   "source": [
    "y_pred = clf.predict(X_test) \n",
    "print(classification_report(y_test, y_pred))"
   ]
  },
  {
   "cell_type": "markdown",
   "id": "b153e6f3",
   "metadata": {},
   "source": [
    "### XGBoost"
   ]
  },
  {
   "cell_type": "code",
   "execution_count": 32,
   "id": "faf2a1a9",
   "metadata": {},
   "outputs": [],
   "source": [
    "from xgboost import XGBClassifier"
   ]
  },
  {
   "cell_type": "code",
   "execution_count": 76,
   "id": "95f15d4b",
   "metadata": {},
   "outputs": [],
   "source": [
    "xgb = XGBClassifier(random_state=17)"
   ]
  },
  {
   "cell_type": "code",
   "execution_count": 77,
   "id": "2f4c9b57",
   "metadata": {},
   "outputs": [
    {
     "data": {
      "text/html": [
       "<style>#sk-container-id-3 {color: black;background-color: white;}#sk-container-id-3 pre{padding: 0;}#sk-container-id-3 div.sk-toggleable {background-color: white;}#sk-container-id-3 label.sk-toggleable__label {cursor: pointer;display: block;width: 100%;margin-bottom: 0;padding: 0.3em;box-sizing: border-box;text-align: center;}#sk-container-id-3 label.sk-toggleable__label-arrow:before {content: \"▸\";float: left;margin-right: 0.25em;color: #696969;}#sk-container-id-3 label.sk-toggleable__label-arrow:hover:before {color: black;}#sk-container-id-3 div.sk-estimator:hover label.sk-toggleable__label-arrow:before {color: black;}#sk-container-id-3 div.sk-toggleable__content {max-height: 0;max-width: 0;overflow: hidden;text-align: left;background-color: #f0f8ff;}#sk-container-id-3 div.sk-toggleable__content pre {margin: 0.2em;color: black;border-radius: 0.25em;background-color: #f0f8ff;}#sk-container-id-3 input.sk-toggleable__control:checked~div.sk-toggleable__content {max-height: 200px;max-width: 100%;overflow: auto;}#sk-container-id-3 input.sk-toggleable__control:checked~label.sk-toggleable__label-arrow:before {content: \"▾\";}#sk-container-id-3 div.sk-estimator input.sk-toggleable__control:checked~label.sk-toggleable__label {background-color: #d4ebff;}#sk-container-id-3 div.sk-label input.sk-toggleable__control:checked~label.sk-toggleable__label {background-color: #d4ebff;}#sk-container-id-3 input.sk-hidden--visually {border: 0;clip: rect(1px 1px 1px 1px);clip: rect(1px, 1px, 1px, 1px);height: 1px;margin: -1px;overflow: hidden;padding: 0;position: absolute;width: 1px;}#sk-container-id-3 div.sk-estimator {font-family: monospace;background-color: #f0f8ff;border: 1px dotted black;border-radius: 0.25em;box-sizing: border-box;margin-bottom: 0.5em;}#sk-container-id-3 div.sk-estimator:hover {background-color: #d4ebff;}#sk-container-id-3 div.sk-parallel-item::after {content: \"\";width: 100%;border-bottom: 1px solid gray;flex-grow: 1;}#sk-container-id-3 div.sk-label:hover label.sk-toggleable__label {background-color: #d4ebff;}#sk-container-id-3 div.sk-serial::before {content: \"\";position: absolute;border-left: 1px solid gray;box-sizing: border-box;top: 0;bottom: 0;left: 50%;z-index: 0;}#sk-container-id-3 div.sk-serial {display: flex;flex-direction: column;align-items: center;background-color: white;padding-right: 0.2em;padding-left: 0.2em;position: relative;}#sk-container-id-3 div.sk-item {position: relative;z-index: 1;}#sk-container-id-3 div.sk-parallel {display: flex;align-items: stretch;justify-content: center;background-color: white;position: relative;}#sk-container-id-3 div.sk-item::before, #sk-container-id-3 div.sk-parallel-item::before {content: \"\";position: absolute;border-left: 1px solid gray;box-sizing: border-box;top: 0;bottom: 0;left: 50%;z-index: -1;}#sk-container-id-3 div.sk-parallel-item {display: flex;flex-direction: column;z-index: 1;position: relative;background-color: white;}#sk-container-id-3 div.sk-parallel-item:first-child::after {align-self: flex-end;width: 50%;}#sk-container-id-3 div.sk-parallel-item:last-child::after {align-self: flex-start;width: 50%;}#sk-container-id-3 div.sk-parallel-item:only-child::after {width: 0;}#sk-container-id-3 div.sk-dashed-wrapped {border: 1px dashed gray;margin: 0 0.4em 0.5em 0.4em;box-sizing: border-box;padding-bottom: 0.4em;background-color: white;}#sk-container-id-3 div.sk-label label {font-family: monospace;font-weight: bold;display: inline-block;line-height: 1.2em;}#sk-container-id-3 div.sk-label-container {text-align: center;}#sk-container-id-3 div.sk-container {/* jupyter's `normalize.less` sets `[hidden] { display: none; }` but bootstrap.min.css set `[hidden] { display: none !important; }` so we also need the `!important` here to be able to override the default hidden behavior on the sphinx rendered scikit-learn.org. See: https://github.com/scikit-learn/scikit-learn/issues/21755 */display: inline-block !important;position: relative;}#sk-container-id-3 div.sk-text-repr-fallback {display: none;}</style><div id=\"sk-container-id-3\" class=\"sk-top-container\"><div class=\"sk-text-repr-fallback\"><pre>XGBClassifier(base_score=None, booster=None, callbacks=None,\n",
       "              colsample_bylevel=None, colsample_bynode=None,\n",
       "              colsample_bytree=None, early_stopping_rounds=None,\n",
       "              enable_categorical=False, eval_metric=None, feature_types=None,\n",
       "              gamma=None, gpu_id=None, grow_policy=None, importance_type=None,\n",
       "              interaction_constraints=None, learning_rate=None, max_bin=None,\n",
       "              max_cat_threshold=None, max_cat_to_onehot=None,\n",
       "              max_delta_step=None, max_depth=None, max_leaves=None,\n",
       "              min_child_weight=None, missing=nan, monotone_constraints=None,\n",
       "              n_estimators=100, n_jobs=None, num_parallel_tree=None,\n",
       "              objective=&#x27;multi:softprob&#x27;, predictor=None, ...)</pre><b>In a Jupyter environment, please rerun this cell to show the HTML representation or trust the notebook. <br />On GitHub, the HTML representation is unable to render, please try loading this page with nbviewer.org.</b></div><div class=\"sk-container\" hidden><div class=\"sk-item\"><div class=\"sk-estimator sk-toggleable\"><input class=\"sk-toggleable__control sk-hidden--visually\" id=\"sk-estimator-id-3\" type=\"checkbox\" checked><label for=\"sk-estimator-id-3\" class=\"sk-toggleable__label sk-toggleable__label-arrow\">XGBClassifier</label><div class=\"sk-toggleable__content\"><pre>XGBClassifier(base_score=None, booster=None, callbacks=None,\n",
       "              colsample_bylevel=None, colsample_bynode=None,\n",
       "              colsample_bytree=None, early_stopping_rounds=None,\n",
       "              enable_categorical=False, eval_metric=None, feature_types=None,\n",
       "              gamma=None, gpu_id=None, grow_policy=None, importance_type=None,\n",
       "              interaction_constraints=None, learning_rate=None, max_bin=None,\n",
       "              max_cat_threshold=None, max_cat_to_onehot=None,\n",
       "              max_delta_step=None, max_depth=None, max_leaves=None,\n",
       "              min_child_weight=None, missing=nan, monotone_constraints=None,\n",
       "              n_estimators=100, n_jobs=None, num_parallel_tree=None,\n",
       "              objective=&#x27;multi:softprob&#x27;, predictor=None, ...)</pre></div></div></div></div></div>"
      ],
      "text/plain": [
       "XGBClassifier(base_score=None, booster=None, callbacks=None,\n",
       "              colsample_bylevel=None, colsample_bynode=None,\n",
       "              colsample_bytree=None, early_stopping_rounds=None,\n",
       "              enable_categorical=False, eval_metric=None, feature_types=None,\n",
       "              gamma=None, gpu_id=None, grow_policy=None, importance_type=None,\n",
       "              interaction_constraints=None, learning_rate=None, max_bin=None,\n",
       "              max_cat_threshold=None, max_cat_to_onehot=None,\n",
       "              max_delta_step=None, max_depth=None, max_leaves=None,\n",
       "              min_child_weight=None, missing=nan, monotone_constraints=None,\n",
       "              n_estimators=100, n_jobs=None, num_parallel_tree=None,\n",
       "              objective='multi:softprob', predictor=None, ...)"
      ]
     },
     "execution_count": 77,
     "metadata": {},
     "output_type": "execute_result"
    }
   ],
   "source": [
    "xgb.fit(X, y)"
   ]
  },
  {
   "cell_type": "code",
   "execution_count": 44,
   "id": "ccf07191",
   "metadata": {},
   "outputs": [
    {
     "name": "stdout",
     "output_type": "stream",
     "text": [
      "              precision    recall  f1-score   support\n",
      "\n",
      "           0       1.00      0.88      0.93         8\n",
      "           1       0.71      0.83      0.77         6\n",
      "           2       0.67      0.67      0.67         3\n",
      "\n",
      "    accuracy                           0.82        17\n",
      "   macro avg       0.79      0.79      0.79        17\n",
      "weighted avg       0.84      0.82      0.83        17\n",
      "\n"
     ]
    }
   ],
   "source": [
    "pred = xgb.predict(X_test)\n",
    "print(classification_report(y_test, pred))"
   ]
  },
  {
   "cell_type": "code",
   "execution_count": 45,
   "id": "67183711",
   "metadata": {},
   "outputs": [],
   "source": [
    "import shap "
   ]
  },
  {
   "cell_type": "code",
   "execution_count": 48,
   "id": "410b9bda",
   "metadata": {},
   "outputs": [],
   "source": [
    "explainer = shap.TreeExplainer(xgb) "
   ]
  },
  {
   "cell_type": "code",
   "execution_count": 56,
   "id": "c8f24d30",
   "metadata": {},
   "outputs": [],
   "source": [
    "shap_values = explainer.shap_values(X)"
   ]
  },
  {
   "cell_type": "code",
   "execution_count": 57,
   "id": "1dd8330a",
   "metadata": {},
   "outputs": [
    {
     "data": {
      "image/png": "[encoded data removed]",
      "text/plain": [
       "<Figure size 576x684 with 1 Axes>"
      ]
     },
     "metadata": {
      "needs_background": "light"
     },
     "output_type": "display_data"
    }
   ],
   "source": [
    "shap.summary_plot(shap_values, X, class_inds=\"original\", class_names=model.classes_)"
   ]
  },
  {
   "cell_type": "code",
   "execution_count": 58,
   "id": "f67bf00a",
   "metadata": {},
   "outputs": [
    {
     "ename": "ValueError",
     "evalue": "the beeswarm plot requires Explanation object as the `shap_values` argument",
     "output_type": "error",
     "traceback": [
      "\u001b[0;31m---------------------------------------------------------------------------\u001b[0m",
      "\u001b[0;31mValueError\u001b[0m                                Traceback (most recent call last)",
      "Input \u001b[0;32mIn [58]\u001b[0m, in \u001b[0;36m<cell line: 1>\u001b[0;34m()\u001b[0m\n\u001b[0;32m----> 1\u001b[0m \u001b[43mshap\u001b[49m\u001b[38;5;241;43m.\u001b[39;49m\u001b[43mplots\u001b[49m\u001b[38;5;241;43m.\u001b[39;49m\u001b[43mbeeswarm\u001b[49m\u001b[43m(\u001b[49m\u001b[43mshap_values\u001b[49m\u001b[43m)\u001b[49m\n",
      "File \u001b[0;32m~/.local/lib/python3.10/site-packages/shap/plots/_beeswarm.py:46\u001b[0m, in \u001b[0;36mbeeswarm\u001b[0;34m(shap_values, max_display, order, clustering, cluster_threshold, color, axis_color, alpha, show, log_scale, color_bar, plot_size, color_bar_label)\u001b[0m\n\u001b[1;32m     27\u001b[0m \u001b[38;5;250m\u001b[39m\u001b[38;5;124;03m\"\"\"Create a SHAP beeswarm plot, colored by feature values when they are provided.\u001b[39;00m\n\u001b[1;32m     28\u001b[0m \n\u001b[1;32m     29\u001b[0m \u001b[38;5;124;03mParameters\u001b[39;00m\n\u001b[0;32m   (...)\u001b[0m\n\u001b[1;32m     42\u001b[0m \u001b[38;5;124;03m    unchanged.\u001b[39;00m\n\u001b[1;32m     43\u001b[0m \u001b[38;5;124;03m\"\"\"\u001b[39;00m\n\u001b[1;32m     45\u001b[0m \u001b[38;5;28;01mif\u001b[39;00m \u001b[38;5;129;01mnot\u001b[39;00m \u001b[38;5;28misinstance\u001b[39m(shap_values, Explanation):\n\u001b[0;32m---> 46\u001b[0m     \u001b[38;5;28;01mraise\u001b[39;00m \u001b[38;5;167;01mValueError\u001b[39;00m(\u001b[38;5;124m\"\u001b[39m\u001b[38;5;124mthe beeswarm plot requires Explanation object as the `shap_values` argument\u001b[39m\u001b[38;5;124m\"\u001b[39m)\n\u001b[1;32m     48\u001b[0m \u001b[38;5;28;01mif\u001b[39;00m \u001b[38;5;28mlen\u001b[39m(shap_values\u001b[38;5;241m.\u001b[39mshape) \u001b[38;5;241m==\u001b[39m \u001b[38;5;241m1\u001b[39m:\n\u001b[1;32m     49\u001b[0m     \u001b[38;5;28;01mraise\u001b[39;00m \u001b[38;5;167;01mValueError\u001b[39;00m(\n\u001b[1;32m     50\u001b[0m         \u001b[38;5;124m\"\u001b[39m\u001b[38;5;124mThe beeswarm plot does not support plotting a single instance, please pass \u001b[39m\u001b[38;5;124m\"\u001b[39m\n\u001b[1;32m     51\u001b[0m         \u001b[38;5;124m\"\u001b[39m\u001b[38;5;124man explanation matrix with many instances!\u001b[39m\u001b[38;5;124m\"\u001b[39m\n\u001b[1;32m     52\u001b[0m     )\n",
      "\u001b[0;31mValueError\u001b[0m: the beeswarm plot requires Explanation object as the `shap_values` argument"
     ]
    }
   ],
   "source": [
    "shap.plots.beeswarm(shap_values)"
   ]
  },
  {
   "cell_type": "code",
   "execution_count": 74,
   "id": "9cebb345",
   "metadata": {
    "scrolled": false
   },
   "outputs": [],
   "source": [
    "# f, (ax1, ax2, ax3) = plt.subplots(1, 3, figsize=(50, 30)) \n",
    "\n",
    "# ax1.set_title('Первый разряд')\n",
    "# ax1 = shap.summary_plot(shap_values[0], X)\n",
    "\n",
    "# ax2.set_title('Второй разряд')\n",
    "# ax2 = shap.summary_plot(shap_values[1], X)\n",
    "\n",
    "# ax3.set_title('Третий разряд')\n",
    "# ax3 = shap.summary_plot(shap_values[2], X)\n",
    "\n",
    "# f.show()"
   ]
  },
  {
   "cell_type": "code",
   "execution_count": 83,
   "id": "a0293719",
   "metadata": {},
   "outputs": [
    {
     "data": {
      "image/png": "[encoded data removed]",
      "text/plain": [
       "<Figure size 576x684 with 2 Axes>"
      ]
     },
     "metadata": {
      "needs_background": "light"
     },
     "output_type": "display_data"
    },
    {
     "ename": "NameError",
     "evalue": "name 'savefig' is not defined",
     "output_type": "error",
     "traceback": [
      "\u001b[0;31m---------------------------------------------------------------------------\u001b[0m",
      "\u001b[0;31mNameError\u001b[0m                                 Traceback (most recent call last)",
      "Input \u001b[0;32mIn [83]\u001b[0m, in \u001b[0;36m<cell line: 3>\u001b[0;34m()\u001b[0m\n\u001b[1;32m      1\u001b[0m plt\u001b[38;5;241m.\u001b[39mtitle(\u001b[38;5;124m'\u001b[39m\u001b[38;5;124mПервый разряд\u001b[39m\u001b[38;5;124m'\u001b[39m)\n\u001b[1;32m      2\u001b[0m shap\u001b[38;5;241m.\u001b[39msummary_plot(shap_values[\u001b[38;5;241m0\u001b[39m], X)\n\u001b[0;32m----> 3\u001b[0m \u001b[43msavefig\u001b[49m(\u001b[38;5;124m'\u001b[39m\u001b[38;5;124mviz/shap_values_first_rank.jpeg\u001b[39m\u001b[38;5;124m'\u001b[39m)\n",
      "\u001b[0;31mNameError\u001b[0m: name 'savefig' is not defined"
     ]
    }
   ],
   "source": [
    "plt.title('Первый разряд')\n",
    "shap.summary_plot(shap_values[0], X)\n",
    "savefig('viz/shap_values_first_rank.jpeg')"
   ]
  },
  {
   "cell_type": "code",
   "execution_count": 79,
   "id": "592f39e4",
   "metadata": {},
   "outputs": [
    {
     "data": {
      "image/png": "[encoded data removed]",
      "text/plain": [
       "<Figure size 576x684 with 2 Axes>"
      ]
     },
     "metadata": {
      "needs_background": "light"
     },
     "output_type": "display_data"
    }
   ],
   "source": [
    "plt.title('Второй разряд') \n",
    "shap.summary_plot(shap_values[1], X, )"
   ]
  },
  {
   "cell_type": "code",
   "execution_count": 80,
   "id": "aa9774e9",
   "metadata": {
    "scrolled": true
   },
   "outputs": [
    {
     "data": {
      "image/png": "[encoded data removed]",
      "text/plain": [
       "<Figure size 576x684 with 2 Axes>"
      ]
     },
     "metadata": {
      "needs_background": "light"
     },
     "output_type": "display_data"
    }
   ],
   "source": [
    "plt.title('Третий разряд')\n",
    "shap.summary_plot(shap_values[2], X)"
   ]
  },
  {
   "cell_type": "markdown",
   "id": "33941d58",
   "metadata": {},
   "source": [
    "## Собираем выбросы "
   ]
  },
  {
   "cell_type": "code",
   "execution_count": 17,
   "id": "239c2a63",
   "metadata": {},
   "outputs": [],
   "source": [
    "features_outliers = ['screendays_by_year', \n",
    "                     'new_movies_percentage', \n",
    "                     'foreign_movies_percentage', \n",
    "                     'mean_distrib']"
   ]
  },
  {
   "cell_type": "code",
   "execution_count": 72,
   "id": "db3f46f1",
   "metadata": {},
   "outputs": [
    {
     "data": {
      "text/html": [
       "<div>\n",
       "<style scoped>\n",
       "    .dataframe tbody tr th:only-of-type {\n",
       "        vertical-align: middle;\n",
       "    }\n",
       "\n",
       "    .dataframe tbody tr th {\n",
       "        vertical-align: top;\n",
       "    }\n",
       "\n",
       "    .dataframe thead th {\n",
       "        text-align: right;\n",
       "    }\n",
       "</style>\n",
       "<table border=\"1\" class=\"dataframe\">\n",
       "  <thead>\n",
       "    <tr style=\"text-align: right;\">\n",
       "      <th></th>\n",
       "      <th>cinema</th>\n",
       "      <th>rank</th>\n",
       "      <th>period</th>\n",
       "      <th>screendays_by_year</th>\n",
       "      <th>new_movies_percentage</th>\n",
       "      <th>foreign_movies_percentage</th>\n",
       "      <th>mean_distrib</th>\n",
       "    </tr>\n",
       "  </thead>\n",
       "  <tbody>\n",
       "    <tr>\n",
       "      <th>0</th>\n",
       "      <td>Авангард</td>\n",
       "      <td>NaN</td>\n",
       "      <td>NaN</td>\n",
       "      <td>NaN</td>\n",
       "      <td>NaN</td>\n",
       "      <td>NaN</td>\n",
       "      <td>NaN</td>\n",
       "    </tr>\n",
       "    <tr>\n",
       "      <th>1</th>\n",
       "      <td>Аврора</td>\n",
       "      <td>NaN</td>\n",
       "      <td>NaN</td>\n",
       "      <td>NaN</td>\n",
       "      <td>NaN</td>\n",
       "      <td>NaN</td>\n",
       "      <td>NaN</td>\n",
       "    </tr>\n",
       "    <tr>\n",
       "      <th>2</th>\n",
       "      <td>Аквариум</td>\n",
       "      <td>NaN</td>\n",
       "      <td>NaN</td>\n",
       "      <td>NaN</td>\n",
       "      <td>NaN</td>\n",
       "      <td>NaN</td>\n",
       "      <td>NaN</td>\n",
       "    </tr>\n",
       "    <tr>\n",
       "      <th>3</th>\n",
       "      <td>Арс</td>\n",
       "      <td>NaN</td>\n",
       "      <td>NaN</td>\n",
       "      <td>NaN</td>\n",
       "      <td>NaN</td>\n",
       "      <td>NaN</td>\n",
       "      <td>NaN</td>\n",
       "    </tr>\n",
       "    <tr>\n",
       "      <th>4</th>\n",
       "      <td>Баррикады</td>\n",
       "      <td>NaN</td>\n",
       "      <td>NaN</td>\n",
       "      <td>NaN</td>\n",
       "      <td>NaN</td>\n",
       "      <td>NaN</td>\n",
       "      <td>NaN</td>\n",
       "    </tr>\n",
       "  </tbody>\n",
       "</table>\n",
       "</div>"
      ],
      "text/plain": [
       "       cinema rank period screendays_by_year new_movies_percentage  \\\n",
       "0   Авангард   NaN    NaN                NaN                   NaN   \n",
       "1     Аврора   NaN    NaN                NaN                   NaN   \n",
       "2   Аквариум   NaN    NaN                NaN                   NaN   \n",
       "3        Арс   NaN    NaN                NaN                   NaN   \n",
       "4  Баррикады   NaN    NaN                NaN                   NaN   \n",
       "\n",
       "  foreign_movies_percentage mean_distrib  \n",
       "0                       NaN          NaN  \n",
       "1                       NaN          NaN  \n",
       "2                       NaN          NaN  \n",
       "3                       NaN          NaN  \n",
       "4                       NaN          NaN  "
      ]
     },
     "execution_count": 72,
     "metadata": {},
     "output_type": "execute_result"
    }
   ],
   "source": [
    "df_outliers_first = pd.DataFrame(columns=['cinema', 'rank', 'period'] + features_outliers)\n",
    "df_outliers_first.loc[:, 'cinema'] = df_first_period['Cinema'].values\n",
    "\n",
    "df_outliers_first.head()"
   ]
  },
  {
   "cell_type": "code",
   "execution_count": 78,
   "id": "cda9e0a2",
   "metadata": {},
   "outputs": [
    {
     "data": {
      "text/html": [
       "<div>\n",
       "<style scoped>\n",
       "    .dataframe tbody tr th:only-of-type {\n",
       "        vertical-align: middle;\n",
       "    }\n",
       "\n",
       "    .dataframe tbody tr th {\n",
       "        vertical-align: top;\n",
       "    }\n",
       "\n",
       "    .dataframe thead th {\n",
       "        text-align: right;\n",
       "    }\n",
       "</style>\n",
       "<table border=\"1\" class=\"dataframe\">\n",
       "  <thead>\n",
       "    <tr style=\"text-align: right;\">\n",
       "      <th></th>\n",
       "      <th>cinema</th>\n",
       "      <th>rank</th>\n",
       "      <th>period</th>\n",
       "      <th>screendays_by_year</th>\n",
       "      <th>new_movies_percentage</th>\n",
       "      <th>foreign_movies_percentage</th>\n",
       "      <th>mean_distrib</th>\n",
       "    </tr>\n",
       "  </thead>\n",
       "  <tbody>\n",
       "    <tr>\n",
       "      <th>0</th>\n",
       "      <td>Авангард</td>\n",
       "      <td>NaN</td>\n",
       "      <td>NaN</td>\n",
       "      <td>NaN</td>\n",
       "      <td>NaN</td>\n",
       "      <td>NaN</td>\n",
       "      <td>NaN</td>\n",
       "    </tr>\n",
       "    <tr>\n",
       "      <th>1</th>\n",
       "      <td>Аврора</td>\n",
       "      <td>NaN</td>\n",
       "      <td>NaN</td>\n",
       "      <td>NaN</td>\n",
       "      <td>NaN</td>\n",
       "      <td>NaN</td>\n",
       "      <td>NaN</td>\n",
       "    </tr>\n",
       "    <tr>\n",
       "      <th>2</th>\n",
       "      <td>Аквариум</td>\n",
       "      <td>NaN</td>\n",
       "      <td>NaN</td>\n",
       "      <td>NaN</td>\n",
       "      <td>NaN</td>\n",
       "      <td>NaN</td>\n",
       "      <td>NaN</td>\n",
       "    </tr>\n",
       "    <tr>\n",
       "      <th>3</th>\n",
       "      <td>Баррикады</td>\n",
       "      <td>NaN</td>\n",
       "      <td>NaN</td>\n",
       "      <td>NaN</td>\n",
       "      <td>NaN</td>\n",
       "      <td>NaN</td>\n",
       "      <td>NaN</td>\n",
       "    </tr>\n",
       "    <tr>\n",
       "      <th>4</th>\n",
       "      <td>ВСХВ малый зал</td>\n",
       "      <td>NaN</td>\n",
       "      <td>NaN</td>\n",
       "      <td>NaN</td>\n",
       "      <td>NaN</td>\n",
       "      <td>NaN</td>\n",
       "      <td>NaN</td>\n",
       "    </tr>\n",
       "  </tbody>\n",
       "</table>\n",
       "</div>"
      ],
      "text/plain": [
       "            cinema rank period screendays_by_year new_movies_percentage  \\\n",
       "0        Авангард   NaN    NaN                NaN                   NaN   \n",
       "1          Аврора   NaN    NaN                NaN                   NaN   \n",
       "2        Аквариум   NaN    NaN                NaN                   NaN   \n",
       "3       Баррикады   NaN    NaN                NaN                   NaN   \n",
       "4  ВСХВ малый зал   NaN    NaN                NaN                   NaN   \n",
       "\n",
       "  foreign_movies_percentage mean_distrib  \n",
       "0                       NaN          NaN  \n",
       "1                       NaN          NaN  \n",
       "2                       NaN          NaN  \n",
       "3                       NaN          NaN  \n",
       "4                       NaN          NaN  "
      ]
     },
     "execution_count": 78,
     "metadata": {},
     "output_type": "execute_result"
    }
   ],
   "source": [
    "df_outliers_second = pd.DataFrame(columns=['cinema', 'rank', 'period'] + features_outliers)\n",
    "df_outliers_second.loc[:, 'cinema'] = df_second_period['Cinema'].values\n",
    "\n",
    "df_outliers_second.head()"
   ]
  },
  {
   "cell_type": "code",
   "execution_count": 80,
   "id": "5667b18d",
   "metadata": {
    "scrolled": false
   },
   "outputs": [],
   "source": [
    "for rank in [1, 2, 3]: \n",
    "    for label in ['1954-1955']: \n",
    "        for feature in features_outliers:\n",
    "            sample = df[(df['rank'] == rank) & (df['label'] == label)][['Cinema', feature]]\n",
    "            \n",
    "            percentile_10 = np.percentile(sample[feature].values, 10) \n",
    "            percentile_90 = np.percentile(sample[feature].values, 90) \n",
    "            mean = \"{:.2f}\".format(np.mean(sample[feature]))\n",
    "            \n",
    "#             print(f'''{feature}, rank: {rank}, period: {label}\n",
    "# 25% percentile: {percentile_25}, 75% percentile: {percentile_75} \n",
    "# mean: {mean}\n",
    "# ''')\n",
    "            \n",
    "            outliers = sample[(sample[feature] < percentile_10) | (sample[feature] > percentile_90)] \n",
    "            \n",
    "            for i, row in outliers.iterrows():\n",
    "                cinema = row['Cinema']\n",
    "                feature_value = \"{:.2f}\".format(row[feature])\n",
    "#                 print(df_outliers_first[df_outliers_first['cinema'] == cinema][feature]) \n",
    "                \n",
    "                df_outliers_second[feature][df_outliers_second['cinema'] == cinema] = feature_value\n",
    "                df_outliers_second['rank'][df_outliers_second['cinema'] == cinema] = rank \n",
    "                df_outliers_second['period'][df_outliers_second['cinema'] == cinema] = label"
   ]
  },
  {
   "cell_type": "code",
   "execution_count": 81,
   "id": "b90caa03",
   "metadata": {},
   "outputs": [],
   "source": [
    "df_outliers_second = df_outliers_second.dropna(how='all', subset=features_outliers)\n",
    "\n",
    "df_outliers_second = df_outliers_second.sort_values(by='rank') \n",
    "df_outliers_second = df_outliers_second.reset_index() \n",
    "df_outliers_second = df_outliers_second.drop(columns=['period', 'index']) "
   ]
  },
  {
   "cell_type": "code",
   "execution_count": 82,
   "id": "39fdf1a0",
   "metadata": {},
   "outputs": [
    {
     "data": {
      "text/html": [
       "<div>\n",
       "<style scoped>\n",
       "    .dataframe tbody tr th:only-of-type {\n",
       "        vertical-align: middle;\n",
       "    }\n",
       "\n",
       "    .dataframe tbody tr th {\n",
       "        vertical-align: top;\n",
       "    }\n",
       "\n",
       "    .dataframe thead th {\n",
       "        text-align: right;\n",
       "    }\n",
       "</style>\n",
       "<table border=\"1\" class=\"dataframe\">\n",
       "  <thead>\n",
       "    <tr style=\"text-align: right;\">\n",
       "      <th></th>\n",
       "      <th>cinema</th>\n",
       "      <th>rank</th>\n",
       "      <th>screendays_by_year</th>\n",
       "      <th>new_movies_percentage</th>\n",
       "      <th>foreign_movies_percentage</th>\n",
       "      <th>mean_distrib</th>\n",
       "    </tr>\n",
       "  </thead>\n",
       "  <tbody>\n",
       "    <tr>\n",
       "      <th>0</th>\n",
       "      <td>им. Моссовета</td>\n",
       "      <td>1</td>\n",
       "      <td>NaN</td>\n",
       "      <td>NaN</td>\n",
       "      <td>34.62</td>\n",
       "      <td>NaN</td>\n",
       "    </tr>\n",
       "    <tr>\n",
       "      <th>1</th>\n",
       "      <td>Центральный</td>\n",
       "      <td>1</td>\n",
       "      <td>332.00</td>\n",
       "      <td>NaN</td>\n",
       "      <td>49.13</td>\n",
       "      <td>NaN</td>\n",
       "    </tr>\n",
       "    <tr>\n",
       "      <th>2</th>\n",
       "      <td>Художественный</td>\n",
       "      <td>1</td>\n",
       "      <td>NaN</td>\n",
       "      <td>76.15</td>\n",
       "      <td>NaN</td>\n",
       "      <td>7.00</td>\n",
       "    </tr>\n",
       "    <tr>\n",
       "      <th>3</th>\n",
       "      <td>Форум</td>\n",
       "      <td>1</td>\n",
       "      <td>NaN</td>\n",
       "      <td>NaN</td>\n",
       "      <td>49.50</td>\n",
       "      <td>5.93</td>\n",
       "    </tr>\n",
       "    <tr>\n",
       "      <th>4</th>\n",
       "      <td>Таганский</td>\n",
       "      <td>1</td>\n",
       "      <td>NaN</td>\n",
       "      <td>89.33</td>\n",
       "      <td>NaN</td>\n",
       "      <td>NaN</td>\n",
       "    </tr>\n",
       "    <tr>\n",
       "      <th>5</th>\n",
       "      <td>Знамя</td>\n",
       "      <td>1</td>\n",
       "      <td>165.50</td>\n",
       "      <td>NaN</td>\n",
       "      <td>NaN</td>\n",
       "      <td>3.52</td>\n",
       "    </tr>\n",
       "    <tr>\n",
       "      <th>6</th>\n",
       "      <td>Сад им. Баумана</td>\n",
       "      <td>1</td>\n",
       "      <td>NaN</td>\n",
       "      <td>89.00</td>\n",
       "      <td>NaN</td>\n",
       "      <td>NaN</td>\n",
       "    </tr>\n",
       "    <tr>\n",
       "      <th>7</th>\n",
       "      <td>Перекоп</td>\n",
       "      <td>1</td>\n",
       "      <td>NaN</td>\n",
       "      <td>NaN</td>\n",
       "      <td>34.33</td>\n",
       "      <td>3.85</td>\n",
       "    </tr>\n",
       "    <tr>\n",
       "      <th>8</th>\n",
       "      <td>ПКиО Сокольники</td>\n",
       "      <td>1</td>\n",
       "      <td>166.50</td>\n",
       "      <td>NaN</td>\n",
       "      <td>NaN</td>\n",
       "      <td>NaN</td>\n",
       "    </tr>\n",
       "    <tr>\n",
       "      <th>9</th>\n",
       "      <td>Эрмитаж</td>\n",
       "      <td>1</td>\n",
       "      <td>343.50</td>\n",
       "      <td>72.59</td>\n",
       "      <td>NaN</td>\n",
       "      <td>NaN</td>\n",
       "    </tr>\n",
       "    <tr>\n",
       "      <th>10</th>\n",
       "      <td>Экран жизни</td>\n",
       "      <td>2</td>\n",
       "      <td>NaN</td>\n",
       "      <td>NaN</td>\n",
       "      <td>NaN</td>\n",
       "      <td>4.65</td>\n",
       "    </tr>\n",
       "    <tr>\n",
       "      <th>11</th>\n",
       "      <td>Октябрь</td>\n",
       "      <td>2</td>\n",
       "      <td>NaN</td>\n",
       "      <td>51.22</td>\n",
       "      <td>21.35</td>\n",
       "      <td>NaN</td>\n",
       "    </tr>\n",
       "    <tr>\n",
       "      <th>12</th>\n",
       "      <td>Луч</td>\n",
       "      <td>2</td>\n",
       "      <td>331.00</td>\n",
       "      <td>NaN</td>\n",
       "      <td>NaN</td>\n",
       "      <td>NaN</td>\n",
       "    </tr>\n",
       "    <tr>\n",
       "      <th>13</th>\n",
       "      <td>Дзержинский ПКиО</td>\n",
       "      <td>2</td>\n",
       "      <td>2.00</td>\n",
       "      <td>100.00</td>\n",
       "      <td>50.00</td>\n",
       "      <td>1.00</td>\n",
       "    </tr>\n",
       "    <tr>\n",
       "      <th>14</th>\n",
       "      <td>ВСХВ малый зал</td>\n",
       "      <td>2</td>\n",
       "      <td>2.00</td>\n",
       "      <td>NaN</td>\n",
       "      <td>NaN</td>\n",
       "      <td>1.50</td>\n",
       "    </tr>\n",
       "    <tr>\n",
       "      <th>15</th>\n",
       "      <td>Баррикады</td>\n",
       "      <td>2</td>\n",
       "      <td>329.00</td>\n",
       "      <td>NaN</td>\n",
       "      <td>38.10</td>\n",
       "      <td>NaN</td>\n",
       "    </tr>\n",
       "    <tr>\n",
       "      <th>16</th>\n",
       "      <td>Аквариум</td>\n",
       "      <td>2</td>\n",
       "      <td>NaN</td>\n",
       "      <td>82.35</td>\n",
       "      <td>NaN</td>\n",
       "      <td>NaN</td>\n",
       "    </tr>\n",
       "    <tr>\n",
       "      <th>17</th>\n",
       "      <td>Наука и знание</td>\n",
       "      <td>2</td>\n",
       "      <td>NaN</td>\n",
       "      <td>12.68</td>\n",
       "      <td>4.31</td>\n",
       "      <td>5.03</td>\n",
       "    </tr>\n",
       "    <tr>\n",
       "      <th>18</th>\n",
       "      <td>Измайловский ПКиО имени Сталина</td>\n",
       "      <td>3</td>\n",
       "      <td>7.00</td>\n",
       "      <td>100.00</td>\n",
       "      <td>40.00</td>\n",
       "      <td>1.80</td>\n",
       "    </tr>\n",
       "    <tr>\n",
       "      <th>19</th>\n",
       "      <td>Диск</td>\n",
       "      <td>3</td>\n",
       "      <td>325.00</td>\n",
       "      <td>NaN</td>\n",
       "      <td>NaN</td>\n",
       "      <td>NaN</td>\n",
       "    </tr>\n",
       "    <tr>\n",
       "      <th>20</th>\n",
       "      <td>Экспресс</td>\n",
       "      <td>3</td>\n",
       "      <td>NaN</td>\n",
       "      <td>NaN</td>\n",
       "      <td>17.47</td>\n",
       "      <td>4.38</td>\n",
       "    </tr>\n",
       "    <tr>\n",
       "      <th>21</th>\n",
       "      <td>Аврора</td>\n",
       "      <td>3</td>\n",
       "      <td>NaN</td>\n",
       "      <td>61.25</td>\n",
       "      <td>NaN</td>\n",
       "      <td>NaN</td>\n",
       "    </tr>\n",
       "  </tbody>\n",
       "</table>\n",
       "</div>"
      ],
      "text/plain": [
       "                              cinema rank screendays_by_year  \\\n",
       "0                     им. Моссовета     1                NaN   \n",
       "1                       Центральный     1             332.00   \n",
       "2                    Художественный     1                NaN   \n",
       "3                             Форум     1                NaN   \n",
       "4                         Таганский     1                NaN   \n",
       "5                             Знамя     1             165.50   \n",
       "6                   Сад им. Баумана     1                NaN   \n",
       "7                           Перекоп     1                NaN   \n",
       "8                   ПКиО Сокольники     1             166.50   \n",
       "9                           Эрмитаж     1             343.50   \n",
       "10                      Экран жизни     2                NaN   \n",
       "11                          Октябрь     2                NaN   \n",
       "12                              Луч     2             331.00   \n",
       "13                 Дзержинский ПКиО     2               2.00   \n",
       "14                   ВСХВ малый зал     2               2.00   \n",
       "15                        Баррикады     2             329.00   \n",
       "16                         Аквариум     2                NaN   \n",
       "17                   Наука и знание     2                NaN   \n",
       "18  Измайловский ПКиО имени Сталина     3               7.00   \n",
       "19                             Диск     3             325.00   \n",
       "20                         Экспресс     3                NaN   \n",
       "21                           Аврора     3                NaN   \n",
       "\n",
       "   new_movies_percentage foreign_movies_percentage mean_distrib  \n",
       "0                    NaN                     34.62          NaN  \n",
       "1                    NaN                     49.13          NaN  \n",
       "2                  76.15                       NaN         7.00  \n",
       "3                    NaN                     49.50         5.93  \n",
       "4                  89.33                       NaN          NaN  \n",
       "5                    NaN                       NaN         3.52  \n",
       "6                  89.00                       NaN          NaN  \n",
       "7                    NaN                     34.33         3.85  \n",
       "8                    NaN                       NaN          NaN  \n",
       "9                  72.59                       NaN          NaN  \n",
       "10                   NaN                       NaN         4.65  \n",
       "11                 51.22                     21.35          NaN  \n",
       "12                   NaN                       NaN          NaN  \n",
       "13                100.00                     50.00         1.00  \n",
       "14                   NaN                       NaN         1.50  \n",
       "15                   NaN                     38.10          NaN  \n",
       "16                 82.35                       NaN          NaN  \n",
       "17                 12.68                      4.31         5.03  \n",
       "18                100.00                     40.00         1.80  \n",
       "19                   NaN                       NaN          NaN  \n",
       "20                   NaN                     17.47         4.38  \n",
       "21                 61.25                       NaN          NaN  "
      ]
     },
     "execution_count": 82,
     "metadata": {},
     "output_type": "execute_result"
    }
   ],
   "source": [
    "df_outliers_second"
   ]
  },
  {
   "cell_type": "code",
   "execution_count": 77,
   "id": "e4a3b25b",
   "metadata": {},
   "outputs": [],
   "source": [
    "df_outliers_first.to_excel('df_outliers_first.xlsx', index=False)"
   ]
  },
  {
   "cell_type": "code",
   "execution_count": 83,
   "id": "ae39aa5e",
   "metadata": {},
   "outputs": [],
   "source": [
    "df_outliers_second.to_excel('df_outliers_second.xlsx', index=False)"
   ]
  },
  {
   "cell_type": "code",
   "execution_count": null,
   "id": "5596f920",
   "metadata": {},
   "outputs": [],
   "source": []
  }
 ],
 "metadata": {
  "kernelspec": {
   "display_name": "Python 3 (ipykernel)",
   "language": "python",
   "name": "python3"
  },
  "language_info": {
   "codemirror_mode": {
    "name": "ipython",
    "version": 3
   },
   "file_extension": ".py",
   "mimetype": "text/x-python",
   "name": "python",
   "nbconvert_exporter": "python",
   "pygments_lexer": "ipython3",
   "version": "3.10.6"
  }
 },
 "nbformat": 4,
 "nbformat_minor": 5
}
