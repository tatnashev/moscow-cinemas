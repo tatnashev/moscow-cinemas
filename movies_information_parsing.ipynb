{
 "cells": [
  {
   "cell_type": "code",
   "execution_count": 60,
   "id": "45cb815e",
   "metadata": {},
   "outputs": [],
   "source": [
    "import pandas as pd \n",
    "import numpy as np \n",
    "import matplotlib.pyplot as plt \n",
    "import seaborn as sns\n",
    "import pickle\n",
    "import os \n",
    "\n",
    "from tqdm import tqdm"
   ]
  },
  {
   "cell_type": "code",
   "execution_count": 2,
   "id": "53013faa",
   "metadata": {
    "scrolled": true
   },
   "outputs": [],
   "source": [
    "# pip install imdby"
   ]
  },
  {
   "cell_type": "code",
   "execution_count": 3,
   "id": "930d406e",
   "metadata": {},
   "outputs": [],
   "source": [
    "# pip install IMDbPY"
   ]
  },
  {
   "cell_type": "code",
   "execution_count": 4,
   "id": "bc39aa7f",
   "metadata": {},
   "outputs": [],
   "source": [
    "# pip install cinemagoer"
   ]
  },
  {
   "cell_type": "code",
   "execution_count": 11,
   "id": "8c582856",
   "metadata": {},
   "outputs": [
    {
     "data": {
      "text/html": [
       "<div>\n",
       "<style scoped>\n",
       "    .dataframe tbody tr th:only-of-type {\n",
       "        vertical-align: middle;\n",
       "    }\n",
       "\n",
       "    .dataframe tbody tr th {\n",
       "        vertical-align: top;\n",
       "    }\n",
       "\n",
       "    .dataframe thead th {\n",
       "        text-align: right;\n",
       "    }\n",
       "</style>\n",
       "<table border=\"1\" class=\"dataframe\">\n",
       "  <thead>\n",
       "    <tr style=\"text-align: right;\">\n",
       "      <th></th>\n",
       "      <th>Cinema</th>\n",
       "      <th>First day of screening</th>\n",
       "      <th>Screening Days</th>\n",
       "      <th>Title (original)</th>\n",
       "      <th>IMDB ID</th>\n",
       "    </tr>\n",
       "  </thead>\n",
       "  <tbody>\n",
       "    <tr>\n",
       "      <th>0</th>\n",
       "      <td>Метрополь / Metropol'</td>\n",
       "      <td>01/01/1946</td>\n",
       "      <td>50.0</td>\n",
       "      <td>Разгром Японии</td>\n",
       "      <td>171687</td>\n",
       "    </tr>\n",
       "    <tr>\n",
       "      <th>1</th>\n",
       "      <td>Москва / Moskva</td>\n",
       "      <td>01/01/1946</td>\n",
       "      <td>15.0</td>\n",
       "      <td>Разгром Японии</td>\n",
       "      <td>171687</td>\n",
       "    </tr>\n",
       "    <tr>\n",
       "      <th>2</th>\n",
       "      <td>Родина / Rodina</td>\n",
       "      <td>01/01/1946</td>\n",
       "      <td>3.0</td>\n",
       "      <td>Разгром Японии</td>\n",
       "      <td>171687</td>\n",
       "    </tr>\n",
       "    <tr>\n",
       "      <th>3</th>\n",
       "      <td>Востоккино / Vostokkino</td>\n",
       "      <td>01/01/1946</td>\n",
       "      <td>45.0</td>\n",
       "      <td>Разгром Японии</td>\n",
       "      <td>171687</td>\n",
       "    </tr>\n",
       "    <tr>\n",
       "      <th>4</th>\n",
       "      <td>Баррикады / Barrikady</td>\n",
       "      <td>01/01/1946</td>\n",
       "      <td>2.0</td>\n",
       "      <td>Разгром Японии</td>\n",
       "      <td>171687</td>\n",
       "    </tr>\n",
       "  </tbody>\n",
       "</table>\n",
       "</div>"
      ],
      "text/plain": [
       "                    Cinema First day of screening  Screening Days  \\\n",
       "0    Метрополь / Metropol'             01/01/1946            50.0   \n",
       "1          Москва / Moskva             01/01/1946            15.0   \n",
       "2          Родина / Rodina             01/01/1946             3.0   \n",
       "3  Востоккино / Vostokkino             01/01/1946            45.0   \n",
       "4    Баррикады / Barrikady             01/01/1946             2.0   \n",
       "\n",
       "  Title (original) IMDB ID  \n",
       "0   Разгром Японии  171687  \n",
       "1   Разгром Японии  171687  \n",
       "2   Разгром Японии  171687  \n",
       "3   Разгром Японии  171687  \n",
       "4   Разгром Японии  171687  "
      ]
     },
     "execution_count": 11,
     "metadata": {},
     "output_type": "execute_result"
    }
   ],
   "source": [
    "df = pd.read_csv('data/moscow_cinemas.csv')\n",
    "df.head()"
   ]
  },
  {
   "cell_type": "code",
   "execution_count": 107,
   "id": "f4751ade",
   "metadata": {},
   "outputs": [
    {
     "data": {
      "text/plain": [
       "829"
      ]
     },
     "execution_count": 107,
     "metadata": {},
     "output_type": "execute_result"
    }
   ],
   "source": [
    "df['IMDB ID'].nunique()"
   ]
  },
  {
   "cell_type": "code",
   "execution_count": 16,
   "id": "70c2a5e6",
   "metadata": {},
   "outputs": [
    {
     "data": {
      "text/plain": [
       "array(['171687', '39925', 'Unknown', '33095', '37520'], dtype=object)"
      ]
     },
     "execution_count": 16,
     "metadata": {},
     "output_type": "execute_result"
    }
   ],
   "source": [
    "df['IMDB ID'].unique()[:5]"
   ]
  },
  {
   "cell_type": "code",
   "execution_count": 59,
   "id": "070f2d02",
   "metadata": {},
   "outputs": [
    {
     "name": "stderr",
     "output_type": "stream",
     "text": [
      "  2%|▋                                         | 13/829 [00:38<43:09,  3.17s/it]"
     ]
    },
    {
     "name": "stdout",
     "output_type": "stream",
     "text": [
      "oops, country not stated\n"
     ]
    },
    {
     "name": "stderr",
     "output_type": "stream",
     "text": [
      "  4%|█▌                                        | 32/829 [01:42<43:40,  3.29s/it]2023-04-19 14:36:17,694 CRITICAL [imdbpy] /home/timcha/.local/lib/python3.10/site-packages/imdb/_exceptions.py:32: IMDbDataAccessError exception raised; args: ({'errcode': None, 'errmsg': 'None', 'url': 'https://www.imdb.com/title/tt0029405/plotsummary', 'proxy': '', 'exception type': 'IOError', 'original exception': URLError(ConnectionResetError(104, 'Connection reset by peer'))},); kwds: {}\n",
      "Traceback (most recent call last):\n",
      "  File \"/usr/lib/python3.10/urllib/request.py\", line 1348, in do_open\n",
      "    h.request(req.get_method(), req.selector, req.data, headers,\n",
      "  File \"/usr/lib/python3.10/http/client.py\", line 1282, in request\n",
      "    self._send_request(method, url, body, headers, encode_chunked)\n",
      "  File \"/usr/lib/python3.10/http/client.py\", line 1328, in _send_request\n",
      "    self.endheaders(body, encode_chunked=encode_chunked)\n",
      "  File \"/usr/lib/python3.10/http/client.py\", line 1277, in endheaders\n",
      "    self._send_output(message_body, encode_chunked=encode_chunked)\n",
      "  File \"/usr/lib/python3.10/http/client.py\", line 1037, in _send_output\n",
      "    self.send(msg)\n",
      "  File \"/usr/lib/python3.10/http/client.py\", line 975, in send\n",
      "    self.connect()\n",
      "  File \"/usr/lib/python3.10/http/client.py\", line 1454, in connect\n",
      "    self.sock = self._context.wrap_socket(self.sock,\n",
      "  File \"/usr/lib/python3.10/ssl.py\", line 513, in wrap_socket\n",
      "    return self.sslsocket_class._create(\n",
      "  File \"/usr/lib/python3.10/ssl.py\", line 1071, in _create\n",
      "    self.do_handshake()\n",
      "  File \"/usr/lib/python3.10/ssl.py\", line 1342, in do_handshake\n",
      "    self._sslobj.do_handshake()\n",
      "ConnectionResetError: [Errno 104] Connection reset by peer\n",
      "\n",
      "During handling of the above exception, another exception occurred:\n",
      "\n",
      "Traceback (most recent call last):\n",
      "  File \"/home/timcha/.local/lib/python3.10/site-packages/imdb/parser/http/__init__.py\", line 233, in retrieve_unicode\n",
      "    response = uopener.open(url)\n",
      "  File \"/usr/lib/python3.10/urllib/request.py\", line 525, in open\n",
      "    response = meth(req, response)\n",
      "  File \"/usr/lib/python3.10/urllib/request.py\", line 634, in http_response\n",
      "    response = self.parent.error(\n",
      "  File \"/usr/lib/python3.10/urllib/request.py\", line 557, in error\n",
      "    result = self._call_chain(*args)\n",
      "  File \"/usr/lib/python3.10/urllib/request.py\", line 496, in _call_chain\n",
      "    result = func(*args)\n",
      "  File \"/home/timcha/.local/lib/python3.10/site-packages/imdb/parser/http/__init__.py\", line 159, in http_error_308\n",
      "    return super(IMDbHTTPRedirectHandler, self).http_error_302(req, fp, code, msg, headers)\n",
      "  File \"/usr/lib/python3.10/urllib/request.py\", line 749, in http_error_302\n",
      "    return self.parent.open(new, timeout=req.timeout)\n",
      "  File \"/usr/lib/python3.10/urllib/request.py\", line 519, in open\n",
      "    response = self._open(req, data)\n",
      "  File \"/usr/lib/python3.10/urllib/request.py\", line 536, in _open\n",
      "    result = self._call_chain(self.handle_open, protocol, protocol +\n",
      "  File \"/usr/lib/python3.10/urllib/request.py\", line 496, in _call_chain\n",
      "    result = func(*args)\n",
      "  File \"/usr/lib/python3.10/urllib/request.py\", line 1391, in https_open\n",
      "    return self.do_open(http.client.HTTPSConnection, req,\n",
      "  File \"/usr/lib/python3.10/urllib/request.py\", line 1351, in do_open\n",
      "    raise URLError(err)\n",
      "urllib.error.URLError: <urlopen error [Errno 104] Connection reset by peer>\n",
      "2023-04-19 14:36:17,696 CRITICAL [imdbpy] /home/timcha/.local/lib/python3.10/site-packages/imdb/__init__.py:850: caught an exception retrieving or parsing \"plot\" info set for mopID \"0029405\" (accessSystem: http)\n",
      "Traceback (most recent call last):\n",
      "  File \"/usr/lib/python3.10/urllib/request.py\", line 1348, in do_open\n",
      "    h.request(req.get_method(), req.selector, req.data, headers,\n",
      "  File \"/usr/lib/python3.10/http/client.py\", line 1282, in request\n",
      "    self._send_request(method, url, body, headers, encode_chunked)\n",
      "  File \"/usr/lib/python3.10/http/client.py\", line 1328, in _send_request\n",
      "    self.endheaders(body, encode_chunked=encode_chunked)\n",
      "  File \"/usr/lib/python3.10/http/client.py\", line 1277, in endheaders\n",
      "    self._send_output(message_body, encode_chunked=encode_chunked)\n",
      "  File \"/usr/lib/python3.10/http/client.py\", line 1037, in _send_output\n",
      "    self.send(msg)\n",
      "  File \"/usr/lib/python3.10/http/client.py\", line 975, in send\n",
      "    self.connect()\n",
      "  File \"/usr/lib/python3.10/http/client.py\", line 1454, in connect\n",
      "    self.sock = self._context.wrap_socket(self.sock,\n",
      "  File \"/usr/lib/python3.10/ssl.py\", line 513, in wrap_socket\n",
      "    return self.sslsocket_class._create(\n",
      "  File \"/usr/lib/python3.10/ssl.py\", line 1071, in _create\n",
      "    self.do_handshake()\n",
      "  File \"/usr/lib/python3.10/ssl.py\", line 1342, in do_handshake\n",
      "    self._sslobj.do_handshake()\n",
      "ConnectionResetError: [Errno 104] Connection reset by peer\n",
      "\n",
      "During handling of the above exception, another exception occurred:\n",
      "\n",
      "Traceback (most recent call last):\n",
      "  File \"/home/timcha/.local/lib/python3.10/site-packages/imdb/parser/http/__init__.py\", line 233, in retrieve_unicode\n",
      "    response = uopener.open(url)\n",
      "  File \"/usr/lib/python3.10/urllib/request.py\", line 525, in open\n",
      "    response = meth(req, response)\n",
      "  File \"/usr/lib/python3.10/urllib/request.py\", line 634, in http_response\n",
      "    response = self.parent.error(\n",
      "  File \"/usr/lib/python3.10/urllib/request.py\", line 557, in error\n",
      "    result = self._call_chain(*args)\n",
      "  File \"/usr/lib/python3.10/urllib/request.py\", line 496, in _call_chain\n",
      "    result = func(*args)\n",
      "  File \"/home/timcha/.local/lib/python3.10/site-packages/imdb/parser/http/__init__.py\", line 159, in http_error_308\n",
      "    return super(IMDbHTTPRedirectHandler, self).http_error_302(req, fp, code, msg, headers)\n",
      "  File \"/usr/lib/python3.10/urllib/request.py\", line 749, in http_error_302\n",
      "    return self.parent.open(new, timeout=req.timeout)\n",
      "  File \"/usr/lib/python3.10/urllib/request.py\", line 519, in open\n",
      "    response = self._open(req, data)\n",
      "  File \"/usr/lib/python3.10/urllib/request.py\", line 536, in _open\n",
      "    result = self._call_chain(self.handle_open, protocol, protocol +\n",
      "  File \"/usr/lib/python3.10/urllib/request.py\", line 496, in _call_chain\n",
      "    result = func(*args)\n",
      "  File \"/usr/lib/python3.10/urllib/request.py\", line 1391, in https_open\n",
      "    return self.do_open(http.client.HTTPSConnection, req,\n",
      "  File \"/usr/lib/python3.10/urllib/request.py\", line 1351, in do_open\n",
      "    raise URLError(err)\n",
      "urllib.error.URLError: <urlopen error [Errno 104] Connection reset by peer>\n",
      "\n",
      "During handling of the above exception, another exception occurred:\n",
      "\n",
      "Traceback (most recent call last):\n",
      "  File \"/home/timcha/.local/lib/python3.10/site-packages/imdb/__init__.py\", line 848, in update\n",
      "    ret = method(mopID)\n",
      "  File \"/home/timcha/.local/lib/python3.10/site-packages/imdb/parser/http/__init__.py\", line 498, in get_movie_plot\n",
      "    cont = self._retrieve(self.urls['movie_main'] % movieID + 'plotsummary')\n",
      "  File \"/home/timcha/.local/lib/python3.10/site-packages/imdb/parser/http/__init__.py\", line 392, in _retrieve\n",
      "    ret = self.urlOpener.retrieve_unicode(url, size=size)\n",
      "  File \"/home/timcha/.local/lib/python3.10/site-packages/imdb/parser/http/__init__.py\", line 261, in retrieve_unicode\n",
      "    raise IMDbDataAccessError(\n",
      "imdb._exceptions.IMDbDataAccessError: {'errcode': None, 'errmsg': 'None', 'url': 'https://www.imdb.com/title/tt0029405/plotsummary', 'proxy': '', 'exception type': 'IOError', 'original exception': URLError(ConnectionResetError(104, 'Connection reset by peer'))}\n",
      "  4%|█▋                                        | 33/829 [01:47<50:31,  3.81s/it]"
     ]
    },
    {
     "name": "stdout",
     "output_type": "stream",
     "text": [
      "something went wrong\n"
     ]
    },
    {
     "name": "stderr",
     "output_type": "stream",
     "text": [
      "100%|█████████████████████████████████████████| 829/829 [44:15<00:00,  3.20s/it]\n"
     ]
    }
   ],
   "source": [
    "from collections import defaultdict \n",
    "\n",
    "movie_info = defaultdict(list)\n",
    "all_info = {}\n",
    "\n",
    "for imdb_id in tqdm(df['IMDB ID'].unique()): \n",
    "    try: \n",
    "        if 'unknown' in str(imdb_id).strip().lower(): \n",
    "            continue \n",
    "\n",
    "        ia = Cinemagoer()\n",
    "        feature_movie = ia.get_movie(imdb_id) \n",
    "\n",
    "        movie_info['title'].append(df[df['IMDB ID'] == imdb_id]['Title (original)'].values[0])\n",
    "        movie_info['genre'].append(feature_movie['genres'] if 'genres' in feature_movie else np.nan)\n",
    "\n",
    "    #     print(feature_movie['country'])\n",
    "        try: \n",
    "            movie_info['country'].append(feature_movie['country']) \n",
    "        except: \n",
    "            print('oops, country not stated') \n",
    "            movie_info['country'].append(np.nan)\n",
    "\n",
    "        movie_info['rating'].append(feature_movie['rating'] if 'rating' in feature_movie else np.nan)\n",
    "        movie_info['director'].append(feature_movie['director'] if 'director' in feature_movie else np.nan)\n",
    "\n",
    "        all_info[imdb_id] = feature_movie\n",
    "    except: \n",
    "        print('something went wrong') \n",
    "        continue "
   ]
  },
  {
   "cell_type": "code",
   "execution_count": 62,
   "id": "483b3a66",
   "metadata": {},
   "outputs": [],
   "source": [
    "with open('data/movies_all_info.pickle', 'bw') as f: \n",
    "    pickle.dump(all_info, f)"
   ]
  },
  {
   "cell_type": "code",
   "execution_count": 67,
   "id": "31297997",
   "metadata": {},
   "outputs": [
    {
     "data": {
      "text/plain": [
       "dict_keys(['title', 'genre', 'country', 'rating', 'director'])"
      ]
     },
     "execution_count": 67,
     "metadata": {},
     "output_type": "execute_result"
    }
   ],
   "source": [
    "movie_info.keys()"
   ]
  },
  {
   "cell_type": "code",
   "execution_count": 111,
   "id": "563df2bd",
   "metadata": {},
   "outputs": [],
   "source": [
    "res['year'] = [all_info[key]['year'] for key in all_info]"
   ]
  },
  {
   "cell_type": "code",
   "execution_count": 95,
   "id": "87f0f374",
   "metadata": {},
   "outputs": [],
   "source": [
    "res = pd.DataFrame(movie_info)"
   ]
  },
  {
   "cell_type": "code",
   "execution_count": 96,
   "id": "0a590c8b",
   "metadata": {},
   "outputs": [
    {
     "data": {
      "text/plain": [
       "title        object\n",
       "genre        object\n",
       "country      object\n",
       "rating      float64\n",
       "director     object\n",
       "dtype: object"
      ]
     },
     "execution_count": 96,
     "metadata": {},
     "output_type": "execute_result"
    }
   ],
   "source": [
    "res.dtypes"
   ]
  },
  {
   "cell_type": "code",
   "execution_count": 86,
   "id": "60cf76c3",
   "metadata": {},
   "outputs": [],
   "source": [
    "all_genres = [] \n",
    "for genre in res['genre'].values:\n",
    "    if genre is not np.nan:\n",
    "        all_genres.extend(genre)"
   ]
  },
  {
   "cell_type": "code",
   "execution_count": 87,
   "id": "ca0ada82",
   "metadata": {},
   "outputs": [
    {
     "data": {
      "text/plain": [
       "23"
      ]
     },
     "execution_count": 87,
     "metadata": {},
     "output_type": "execute_result"
    }
   ],
   "source": [
    "len(set(all_genres))"
   ]
  },
  {
   "cell_type": "code",
   "execution_count": 75,
   "id": "322e454f",
   "metadata": {},
   "outputs": [
    {
     "name": "stdout",
     "output_type": "stream",
     "text": [
      "key: title, len: 817\n",
      "key: genre, len: 817\n",
      "key: country, len: 817\n",
      "key: rating, len: 817\n",
      "key: director, len: 817\n"
     ]
    }
   ],
   "source": [
    "for key in movie_info: \n",
    "    print(f'key: {key}, len: {len(movie_info[key])}')"
   ]
  },
  {
   "cell_type": "code",
   "execution_count": 98,
   "id": "9d434cac",
   "metadata": {},
   "outputs": [
    {
     "name": "stdout",
     "output_type": "stream",
     "text": [
      "Iosif Kheifits\n",
      "Aleksandr Zarkhi\n"
     ]
    }
   ],
   "source": [
    "for i in res['director'][0]: \n",
    "    print(i['name'])"
   ]
  },
  {
   "cell_type": "code",
   "execution_count": 101,
   "id": "ba98e866",
   "metadata": {},
   "outputs": [],
   "source": [
    "res['director'] = res['director'].apply(lambda x: ', '.join([i['name'] for i in x]))"
   ]
  },
  {
   "cell_type": "code",
   "execution_count": 104,
   "id": "3783971d",
   "metadata": {},
   "outputs": [],
   "source": [
    "res['genre'] = res['genre'].apply(lambda x: ', '.join([i for i in x]) if x is not np.nan else np.nan) "
   ]
  },
  {
   "cell_type": "code",
   "execution_count": 105,
   "id": "749e6ca3",
   "metadata": {},
   "outputs": [],
   "source": [
    "res['country'] = res['country'].apply(lambda x: ', '.join([i for i in x]) if x is not np.nan else np.nan)"
   ]
  },
  {
   "cell_type": "code",
   "execution_count": 112,
   "id": "56b5664b",
   "metadata": {},
   "outputs": [],
   "source": [
    "res.to_excel('final_version.xlsx')"
   ]
  },
  {
   "cell_type": "code",
   "execution_count": 90,
   "id": "4b6e8ec5",
   "metadata": {},
   "outputs": [],
   "source": [
    "genre2idx = {genre: i for i, genre in enumerate(list(set(all_genres)))}"
   ]
  },
  {
   "cell_type": "code",
   "execution_count": 93,
   "id": "d6b35639",
   "metadata": {},
   "outputs": [
    {
     "data": {
      "text/plain": [
       "(817, 23)"
      ]
     },
     "execution_count": 93,
     "metadata": {},
     "output_type": "execute_result"
    }
   ],
   "source": [
    "ohe_matrix = np.zeros((res.shape[0], len(set(all_genres))))\n",
    "ohe_matrix.shape"
   ]
  },
  {
   "cell_type": "code",
   "execution_count": null,
   "id": "4ca6fd21",
   "metadata": {},
   "outputs": [],
   "source": [
    "for i, row in df.iterrows(): \n",
    "    i"
   ]
  }
 ],
 "metadata": {
  "kernelspec": {
   "display_name": "Python 3 (ipykernel)",
   "language": "python",
   "name": "python3"
  },
  "language_info": {
   "codemirror_mode": {
    "name": "ipython",
    "version": 3
   },
   "file_extension": ".py",
   "mimetype": "text/x-python",
   "name": "python",
   "nbconvert_exporter": "python",
   "pygments_lexer": "ipython3",
   "version": "3.10.6"
  }
 },
 "nbformat": 4,
 "nbformat_minor": 5
}
